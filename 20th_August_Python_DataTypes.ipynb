{
 "cells": [
  {
   "cell_type": "code",
   "execution_count": 1,
   "id": "894244c9-5a6c-480d-be23-5555f283a551",
   "metadata": {},
   "outputs": [
    {
     "data": {
      "text/plain": [
       "'gnirts siht esreveR'"
      ]
     },
     "execution_count": 1,
     "metadata": {},
     "output_type": "execute_result"
    }
   ],
   "source": [
    "s='Reverse this string' #1 Declaring a string\n",
    "s[::-1] #Reversing the string"
   ]
  },
  {
   "cell_type": "code",
   "execution_count": 5,
   "id": "934ccc81-2349-4f81-8c41-86a5090432aa",
   "metadata": {},
   "outputs": [
    {
     "name": "stdin",
     "output_type": "stream",
     "text": [
      "Please enter a string reverse\n"
     ]
    },
    {
     "name": "stdout",
     "output_type": "stream",
     "text": [
      "This string is not a palindrome\n"
     ]
    }
   ],
   "source": [
    "s = input('Please enter a string') #2 taking input as a string\n",
    "if s == s[::-1]:  #Checking whether the string is equal to its reverse\n",
    "    print('This string is a palindrome') #Displaying it as a palindrome if equal \n",
    "else:\n",
    "    print('This string is not a palindrome') #Displaying it as not palindrome if not equal\n",
    "    "
   ]
  },
  {
   "cell_type": "code",
   "execution_count": 6,
   "id": "9afd4a68-8dac-4d12-aecd-2052510fe206",
   "metadata": {},
   "outputs": [
    {
     "name": "stdout",
     "output_type": "stream",
     "text": [
      "UPPER\n"
     ]
    }
   ],
   "source": [
    "s = 'Upper' #3 Declaring a string\n",
    "print(s.upper()) #Converting and displaying it in upper case"
   ]
  },
  {
   "cell_type": "code",
   "execution_count": 8,
   "id": "7f181a77-edee-4d6e-8713-3472a350a152",
   "metadata": {},
   "outputs": [
    {
     "name": "stdout",
     "output_type": "stream",
     "text": [
      "lower\n"
     ]
    }
   ],
   "source": [
    "s = 'LOWER' #4Declaring a string\n",
    "print(s.lower()) #Converting and displaying it in lower case"
   ]
  },
  {
   "cell_type": "code",
   "execution_count": 9,
   "id": "99330c92-5ea0-456e-b2a1-8b924e611295",
   "metadata": {},
   "outputs": [
    {
     "name": "stdout",
     "output_type": "stream",
     "text": [
      "The number of vowels in this string is 11\n"
     ]
    }
   ],
   "source": [
    "s = 'Count the number of vowels in this string' #5 Declaring a string\n",
    "count = 0 #Declaring a counter variable \n",
    "for item in s:  #Running a for loop to extract each element from the string\n",
    "    if item.lower() in ('a','e','i','o','u'): #Checking if the element is a vowel\n",
    "        count += 1 #Increasing the counter in case it is a vowel \n",
    "print(f'The number of vowels in this string is', count) #Displaying the number of vowels\n",
    "        "
   ]
  },
  {
   "cell_type": "code",
   "execution_count": 11,
   "id": "4dce49f6-20b5-4676-8eb9-f7435e3be40b",
   "metadata": {},
   "outputs": [
    {
     "name": "stdout",
     "output_type": "stream",
     "text": [
      "The number of consonants in this string is 26\n"
     ]
    }
   ],
   "source": [
    "s = 'Count the number of consonants in this string' #6 Declaring a string\n",
    "count = 0 #Declaring a counter variable \n",
    "for item in s: #Running a for loop to check the number of consonants\n",
    "    if item.lower() not in ('a','e','i','o','u',' '):  #Checking if the element is a consonant\n",
    "        count += 1  #Increasing the counter in case it is a consonant\n",
    "print(f'The number of consonants in this string is', count) #Displaying the number of consonants\n",
    "        "
   ]
  },
  {
   "cell_type": "code",
   "execution_count": 13,
   "id": "66c912ad-48d7-4359-8443-e9396c94d4e3",
   "metadata": {},
   "outputs": [
    {
     "name": "stdout",
     "output_type": "stream",
     "text": [
      "Removeallwhitespacesfromthisstring\n"
     ]
    }
   ],
   "source": [
    "s = 'Remove all whitespaces from this string' #7 Declaring a string\n",
    "ws_removed = '' #Declaring an empty string which will store the string with no spaces\n",
    "for item in s: #Extracting each element from the string\n",
    "    if item != ' ': #Checking if the string is not equal to a space\n",
    "        ws_removed += item #Concatenating the string without the spaces\n",
    "print(ws_removed)  #Displaying the string without whitespace"
   ]
  },
  {
   "cell_type": "code",
   "execution_count": 14,
   "id": "33066b20-47dd-49a8-8e18-670933e05902",
   "metadata": {},
   "outputs": [
    {
     "name": "stdout",
     "output_type": "stream",
     "text": [
      "The length of the string is 30\n"
     ]
    }
   ],
   "source": [
    "s = 'Find the length of this string' #8 Declaring a string\n",
    "count = 0 #Declaring a counter variable\n",
    "for item in s: #Extracting each element in s\n",
    "    count += 1 #Increasing the count in case the \n",
    "print(f'The length of the string is', count)"
   ]
  },
  {
   "cell_type": "code",
   "execution_count": 12,
   "id": "f8a46f93-5e36-4cb1-83a0-d911c5db0aab",
   "metadata": {},
   "outputs": [
    {
     "name": "stdin",
     "output_type": "stream",
     "text": [
      "Enter a word to check for a match:-  string\n"
     ]
    },
    {
     "name": "stdout",
     "output_type": "stream",
     "text": [
      "The given word exists in the string\n"
     ]
    }
   ],
   "source": [
    "s = 'Check if this string contains a specific word' #9 Declaring a string, this string can be taken as input also\n",
    "specific = input(\"Enter a word to check for a match:- \") #Taking an input of a word whose presence we want to check in the string\n",
    "add = '' #Declaring an empty string which will store each word \n",
    "s = s + ' ' #Adding space towards the end of the string so that it moves to the next elif statement \n",
    "for item in s: #Extracting each letter from the string using for loop \n",
    "    if item != ' ': #until we dont encounter a space we add the letters to create a word \n",
    "        add += item\n",
    "    elif add.lower() == specific.lower(): #As soon as we encounter a space we want check if the word is present\n",
    "        print('The given word exists in the string') #Displaying a message in case the word is present \n",
    "        break #and breaking out of the loop \n",
    "    else: #In case the word does not match we delete the word stored in our check variable and the process \n",
    "        add = '' #starts all over again from extracting each letter of the next word.\n",
    "if add == '': #If add is empty we know that the word is not present \n",
    "    print('The given word does not exist in the string') #Displaying the message that the word is not present "
   ]
  },
  {
   "cell_type": "code",
   "execution_count": 19,
   "id": "593bb3f8-0598-450a-ba0a-b1f98ca41767",
   "metadata": {},
   "outputs": [
    {
     "name": "stdin",
     "output_type": "stream",
     "text": [
      "Enter a word which you want to be replaced:-  with\n",
      "Enter a word with which you want to replace the word:-  by\n"
     ]
    },
    {
     "name": "stdout",
     "output_type": "stream",
     "text": [
      "Replace a word in this string by another word\n"
     ]
    }
   ],
   "source": [
    "s = 'Replace a word in this string with another word' #10 Declaring a string, this string can be taken as input also\n",
    "replace = input(\"Enter a word which you want to be replaced:- \") #Taking an input of a word which we want to replace\n",
    "by = input('Enter a word with which you want to replace the word:- ') \n",
    "print(s.replace(replace, by)) #replacing a word by another one "
   ]
  },
  {
   "cell_type": "code",
   "execution_count": 29,
   "id": "d29b36d5-8701-4337-bbc4-323be17d98f6",
   "metadata": {},
   "outputs": [
    {
     "name": "stdin",
     "output_type": "stream",
     "text": [
      "Enter a word whose occurrences you want to be checked string\n"
     ]
    },
    {
     "data": {
      "text/plain": [
       "1"
      ]
     },
     "execution_count": 29,
     "metadata": {},
     "output_type": "execute_result"
    }
   ],
   "source": [
    "s = 'Count the occurrences of a word in a string' #11 Taking input\n",
    "word = input(\"Enter a word whose occurrences you want to be checked:- \") #taking input \n",
    "s.lower().split().count(word) #Counting the number of instances of a word "
   ]
  },
  {
   "cell_type": "code",
   "execution_count": 34,
   "id": "834c4e04-9d31-4095-9ec2-e60606b6b65c",
   "metadata": {},
   "outputs": [
    {
     "name": "stdin",
     "output_type": "stream",
     "text": [
      "Enter a word whose first occurrence you want to check:-  a\n"
     ]
    },
    {
     "data": {
      "text/plain": [
       "5"
      ]
     },
     "execution_count": 34,
     "metadata": {},
     "output_type": "execute_result"
    }
   ],
   "source": [
    "find = 'Find the first occurrence of a word in a string' #12 Taking input \n",
    "w = input('Enter a word whose first occurrence you want to check:- ') \n",
    "find = find.split() #Adding the words to a list \n",
    "find.index(w) #Checking the first occurrence of a word in a string"
   ]
  },
  {
   "cell_type": "code",
   "execution_count": 28,
   "id": "7ccc0d2c-f483-40da-acbc-14f27f019f81",
   "metadata": {},
   "outputs": [
    {
     "name": "stdin",
     "output_type": "stream",
     "text": [
      "Enter a word whose last occurrence you want to check:-  a\n"
     ]
    },
    {
     "name": "stdout",
     "output_type": "stream",
     "text": [
      "The last occurrence of the string is in 9\n"
     ]
    }
   ],
   "source": [
    "last = 'Find the last occurrence of a word in a string' #13 Taking input \n",
    "w1 = input('Enter a word whose last occurrence you want to check:- ')\n",
    "last1 = last.split()\n",
    "last2 = last1[::-1]\n",
    "count = 0\n",
    "for item in last2:\n",
    "    count += 1\n",
    "    if item == w1:\n",
    "        break\n",
    "print(\"The last occurrence of the string is in\", len(last1)+1-count)        "
   ]
  },
  {
   "cell_type": "code",
   "execution_count": 29,
   "id": "055046ee-8ccd-43bd-bec8-cc383e41f2bf",
   "metadata": {},
   "outputs": [
    {
     "name": "stdout",
     "output_type": "stream",
     "text": [
      "['Split', 'this', 'string', 'into', 'a', 'list', 'of', 'words']\n"
     ]
    }
   ],
   "source": [
    "split = \"Split this string into a list of words\" #14\n",
    "print(split.split())"
   ]
  },
  {
   "cell_type": "code",
   "execution_count": 4,
   "id": "5ee7db03-2c97-4fe0-a4ad-4bf094ffff52",
   "metadata": {},
   "outputs": [
    {
     "name": "stdout",
     "output_type": "stream",
     "text": [
      "Join this list of words into a string \n"
     ]
    }
   ],
   "source": [
    "join = ['Join', 'this', 'list', 'of', 'words', 'into', 'a', 'string'] #15 \n",
    "s = ''\n",
    "for item in join:\n",
    "    s += item + \" \"\n",
    "print(s)"
   ]
  },
  {
   "cell_type": "code",
   "execution_count": 11,
   "id": "63f72360-42ae-4ffe-9166-593627bf023b",
   "metadata": {},
   "outputs": [
    {
     "name": "stdout",
     "output_type": "stream",
     "text": [
      "Separate_the_words_in_this_string_with_underscores\n"
     ]
    }
   ],
   "source": [
    "separate = \"Separate the words in this string with underscores\" #16\n",
    "sep = ''\n",
    "for item in separate:\n",
    "    if item == ' ':\n",
    "        sep += '_'\n",
    "    else:\n",
    "        sep += item\n",
    "print(sep)"
   ]
  },
  {
   "cell_type": "code",
   "execution_count": 21,
   "id": "4b848c7b-2906-419e-a201-bce4922c5c51",
   "metadata": {},
   "outputs": [
    {
     "name": "stdin",
     "output_type": "stream",
     "text": [
      "Enter a word or phrase to check if the string starts with it:-  check if this string\n"
     ]
    },
    {
     "name": "stdout",
     "output_type": "stream",
     "text": [
      "The word or phrase exists in the string\n"
     ]
    }
   ],
   "source": [
    "check = 'Check if this string starts with a specific word or phrase' #17\n",
    "phrase = input('Enter a word or phrase to check if the string starts with it:- ').lower()\n",
    "check1 = ''\n",
    "i1 = 0\n",
    "check = check.lower()\n",
    "for item in check:\n",
    "    if item == ' ':\n",
    "        if check1 == phrase:\n",
    "            i1 = 1\n",
    "            break\n",
    "    check1 += item\n",
    "if i1 == 1:\n",
    "    print('The word or phrase exists in the string')\n",
    "else:\n",
    "    print('The word or phrase does not exist in the string')"
   ]
  },
  {
   "cell_type": "code",
   "execution_count": 30,
   "id": "aa78768f-3a5e-486b-9eb8-bbf43005caa3",
   "metadata": {},
   "outputs": [
    {
     "name": "stdin",
     "output_type": "stream",
     "text": [
      "Enter a word or phrase to check if the string ends with it:-  word or phrase\n"
     ]
    },
    {
     "name": "stdout",
     "output_type": "stream",
     "text": [
      "The string ends with the given word/phrase\n"
     ]
    }
   ],
   "source": [
    "ends = 'Check if this string ends with a specific word or phrase' #18\n",
    "ends1 = input('Enter a word or phrase to check if the string ends with it:- ').lower()\n",
    "check2 = ''\n",
    "i2 = 0\n",
    "ends = ends.lower().split()\n",
    "ends = ends[::-1]\n",
    "for item in ends:\n",
    "    check2 = item + ' ' + check2\n",
    "    if check2.rstrip() == ends1:\n",
    "        i2 = 1 \n",
    "        break\n",
    "if i2 == 1:\n",
    "    print('The string ends with the given word/phrase')\n",
    "else:\n",
    "    print('The string does not end with the given word/phrase')"
   ]
  },
  {
   "cell_type": "code",
   "execution_count": 1,
   "id": "445c37d3-314b-4245-b2fe-14828bd9520c",
   "metadata": {},
   "outputs": [
    {
     "name": "stdout",
     "output_type": "stream",
     "text": [
      "Convert This String To Title Case\n"
     ]
    }
   ],
   "source": [
    "title = 'Convert this string to title case' #19\n",
    "print(title.title())"
   ]
  },
  {
   "cell_type": "code",
   "execution_count": 34,
   "id": "8aa480dc-cfa5-4495-bf3a-809b7c439b0b",
   "metadata": {},
   "outputs": [
    {
     "name": "stdout",
     "output_type": "stream",
     "text": [
      "The longest word is: longest\n"
     ]
    }
   ],
   "source": [
    "find = 'Find the longest word in this string' #20\n",
    "long = 0\n",
    "count = 0\n",
    "word2 = ''\n",
    "find = find+' '\n",
    "for item in find:\n",
    "    if item == ' ':\n",
    "        if long > count:\n",
    "            count = long\n",
    "            long_word = word2\n",
    "        word2 = ''\n",
    "        long = 0\n",
    "    else:\n",
    "        long += 1\n",
    "        word2 += item\n",
    "print('The longest word is:', long_word)"
   ]
  },
  {
   "cell_type": "code",
   "execution_count": 35,
   "id": "ad4fa092-0fe0-4efb-b7fa-23b9dbe9df5f",
   "metadata": {},
   "outputs": [
    {
     "name": "stdout",
     "output_type": "stream",
     "text": [
      "The shortest word is: in\n"
     ]
    }
   ],
   "source": [
    "find2 = 'Find the shortest word in this string' #21\n",
    "short = 0\n",
    "counter = 100\n",
    "word_2 = ''\n",
    "find2 = find2 + ' '\n",
    "for item in find2:\n",
    "    if item == ' ':\n",
    "        if long < counter:\n",
    "            counter = long\n",
    "            long_word = word2\n",
    "        word2 = ''\n",
    "        long = 0\n",
    "    else:\n",
    "        long += 1\n",
    "        word2 += item\n",
    "print('The shortest word is:', long_word)"
   ]
  },
  {
   "cell_type": "code",
   "execution_count": 59,
   "id": "c7572dde-b28b-495f-a9e6-f1728a144633",
   "metadata": {},
   "outputs": [
    {
     "name": "stdout",
     "output_type": "stream",
     "text": [
      "string this in words of order the Reverse\n"
     ]
    }
   ],
   "source": [
    "reversal = 'Reverse the order of words in this string'  #22\n",
    "rev_2 = reversal.split()\n",
    "rev_3 = rev_2[::-1]\n",
    "order = ''\n",
    "for item in rev_3:\n",
    "    order = order + item + ' '\n",
    "print (order.rstrip())"
   ]
  },
  {
   "cell_type": "code",
   "execution_count": 65,
   "id": "167facbf-8b0d-433e-ac24-8415ea830401",
   "metadata": {},
   "outputs": [
    {
     "data": {
      "text/plain": [
       "False"
      ]
     },
     "execution_count": 65,
     "metadata": {},
     "output_type": "execute_result"
    }
   ],
   "source": [
    "alp = 'Check if this string is alphanumeric' #23\n",
    "alp.isalnum()"
   ]
  },
  {
   "cell_type": "code",
   "execution_count": 84,
   "id": "af2c17ba-e4cc-4563-a680-6b4bc895808a",
   "metadata": {},
   "outputs": [
    {
     "name": "stdout",
     "output_type": "stream",
     "text": [
      " 456 123\n"
     ]
    }
   ],
   "source": [
    "digits = 'Extract 456 all digits from this string 123' #24 \n",
    "num = ''\n",
    "for item in digits:\n",
    "    if item.isnumeric():\n",
    "        num += item\n",
    "    elif item == ' ':\n",
    "        num += ' '\n",
    "    else:\n",
    "        num = num.rstrip()\n",
    "print(num)"
   ]
  },
  {
   "cell_type": "code",
   "execution_count": 82,
   "id": "71f17d96-61b0-46a8-9cc2-3d716501be4e",
   "metadata": {},
   "outputs": [
    {
     "name": "stdout",
     "output_type": "stream",
     "text": [
      "Extract all alphabets from this string\n"
     ]
    }
   ],
   "source": [
    "alpha = 'Extract all 123 alphabets from this 456 string' #25\n",
    "bets = ''\n",
    "for item in alpha:\n",
    "    if item.isalpha():\n",
    "        bets += item \n",
    "    elif item == ' ':\n",
    "        bets += ' '\n",
    "    else:\n",
    "        bets = bets.rstrip()\n",
    "print(bets)"
   ]
  },
  {
   "cell_type": "code",
   "execution_count": 86,
   "id": "097a271f-f1ec-47c1-a6d4-1fa21b6d3e14",
   "metadata": {},
   "outputs": [
    {
     "name": "stdout",
     "output_type": "stream",
     "text": [
      "The number of uppercase letters are  5\n"
     ]
    }
   ],
   "source": [
    "upper = 'Count the Number of UpperCase Letters in this string' #26\n",
    "count_1 = 0\n",
    "for item in upper: \n",
    "    if item.isupper():\n",
    "        count_1 += 1\n",
    "print('The number of uppercase letters are ', count_1)"
   ]
  },
  {
   "cell_type": "code",
   "execution_count": 87,
   "id": "955c43d5-ec48-4a2b-90c8-c45e4fd9cc9f",
   "metadata": {},
   "outputs": [
    {
     "name": "stdout",
     "output_type": "stream",
     "text": [
      "The number of lowercase letters are  39\n"
     ]
    }
   ],
   "source": [
    "lower = 'Count the Number of LowerCase Letters in this string' #27\n",
    "count_2 = 0\n",
    "for item in lower: \n",
    "    if item.islower():\n",
    "        count_2 += 1\n",
    "print('The number of lowercase letters are ', count_2)"
   ]
  },
  {
   "cell_type": "code",
   "execution_count": 89,
   "id": "84f45430-2b7f-4c50-9bab-385db064230a",
   "metadata": {},
   "outputs": [
    {
     "name": "stdout",
     "output_type": "stream",
     "text": [
      "sWAP tHE cASE OF eACH cHARACTER IN tHIS string\n"
     ]
    }
   ],
   "source": [
    "swap = 'Swap The Case of Each Character in This STRING' #28\n",
    "case = '' \n",
    "for item in swap:\n",
    "    if item.isupper():\n",
    "        case += item.lower()\n",
    "    else:\n",
    "        case += item.upper()\n",
    "print(case)"
   ]
  },
  {
   "cell_type": "code",
   "execution_count": 95,
   "id": "06833fc5-6eeb-482b-9340-8dc5d3321cb7",
   "metadata": {},
   "outputs": [
    {
     "name": "stdin",
     "output_type": "stream",
     "text": [
      "Enter the word to be removed:  from\n"
     ]
    },
    {
     "name": "stdout",
     "output_type": "stream",
     "text": [
      "Remove a specific word this string\n"
     ]
    }
   ],
   "source": [
    "remove = 'Remove a specific word from this string' #29\n",
    "specific_1 = input(\"Enter the word to be removed: \").lower()\n",
    "remove2 = remove.split()\n",
    "for item in remove2:\n",
    "    if item == specific_1:\n",
    "        remove2.remove(item)\n",
    "xremove = ''\n",
    "for item in remove2:\n",
    "    xremove += item + ' '\n",
    "print(xremove.rstrip())"
   ]
  },
  {
   "cell_type": "code",
   "execution_count": 25,
   "id": "7ef6c498-f821-4cd5-abcd-013282e556df",
   "metadata": {},
   "outputs": [
    {
     "name": "stdout",
     "output_type": "stream",
     "text": [
      "Email is valid\n"
     ]
    }
   ],
   "source": [
    "#30 Check if the string is a valid email address or not \n",
    "email = 'guptashubham9331@gmail.com' #Declaring a string containing a potential email address\n",
    "xcheck = ''\n",
    "y = 0\n",
    "if email[0] != '@': #This will check that the email does not start with '@'\n",
    "    email2 = email.split('@')\n",
    "    if len(email2) == 2: #This will check that the email does not contain more than one '@'\n",
    "        for item in email2[1]:\n",
    "            xcheck += item #Capturing only the domain and extension in the 'xcheck' variable. \n",
    "        for item2 in xcheck:\n",
    "            if item2 == '.' and xcheck.index('.')+1 != len(xcheck): #This checks that the domain in the  \n",
    "                print('Email is valid')  #email contains at least one '.' AND does not end with '.'\n",
    "                break\n",
    "            else:\n",
    "                y += 1\n",
    "        if len(xcheck) == y:\n",
    "            print(\"Email is invalid\") \n",
    "    else:\n",
    "        print('Email is invalid')\n",
    "else:\n",
    "    print('Email is invalid')"
   ]
  },
  {
   "cell_type": "code",
   "execution_count": 29,
   "id": "d79a4dd0-75e1-4962-9647-a69dfebd9c57",
   "metadata": {},
   "outputs": [
    {
     "name": "stdout",
     "output_type": "stream",
     "text": [
      "The username is guptashubham9331\n"
     ]
    }
   ],
   "source": [
    "username = 'guptashubham9331@gmail.com' #31 Extracting the username from the email address\n",
    "user = username.split('@')\n",
    "print('The username is', user[0])"
   ]
  },
  {
   "cell_type": "code",
   "execution_count": 30,
   "id": "b6615cd8-94e2-4c00-baaa-d5591f36e5cd",
   "metadata": {},
   "outputs": [
    {
     "name": "stdout",
     "output_type": "stream",
     "text": [
      "The username is gmail.com\n"
     ]
    }
   ],
   "source": [
    "domain = 'guptashubham9331@gmail.com' #32 Extracting the username from the email address\n",
    "dom = domain.split('@')\n",
    "print('The domain name is', dom[1])"
   ]
  },
  {
   "cell_type": "code",
   "execution_count": 34,
   "id": "ef27eb3f-5589-4037-8911-1c4987a40791",
   "metadata": {},
   "outputs": [
    {
     "name": "stdout",
     "output_type": "stream",
     "text": [
      "Replace multiple spaces in this string with a single space\n"
     ]
    }
   ],
   "source": [
    "replace = \"Replace  multiple    spaces  in this      string with a single    space\" #33\n",
    "replace2 = replace.split()\n",
    "concat = ''\n",
    "for item in replace2:\n",
    "    concat += item + ' '\n",
    "print(concat.rstrip())"
   ]
  },
  {
   "cell_type": "code",
   "execution_count": 47,
   "id": "5e845f3b-3cab-4bd9-b7c3-9d0d63e626ae",
   "metadata": {},
   "outputs": [
    {
     "name": "stdout",
     "output_type": "stream",
     "text": [
      "URL is valid\n"
     ]
    }
   ],
   "source": [
    "url = 'https://google.com' #34 Check if a URL is valid \n",
    "xy = '' \n",
    "co = 0\n",
    "url2 = url.split('.') #Splitting the url basis the presence of '.'\n",
    "if len(url2) >= 2:  #If there are 2 or more splits this confirms the presence of '.'\n",
    "    for xitem in url:\n",
    "        xy += xitem\n",
    "        co += 1\n",
    "        if co == 8:\n",
    "            if xy != 'https://': #Checking for the presence of 'https://'\n",
    "                print('URL is invalid')\n",
    "                break\n",
    "            else:\n",
    "                print('URL is valid')\n",
    "                break\n",
    "else:\n",
    "    print('URL is invalid')"
   ]
  },
  {
   "cell_type": "code",
   "execution_count": 49,
   "id": "b24a20cb-df4e-41d5-8a99-c49482b20b48",
   "metadata": {},
   "outputs": [
    {
     "name": "stdout",
     "output_type": "stream",
     "text": [
      "https\n"
     ]
    }
   ],
   "source": [
    "url = 'https://google.com' #35 \n",
    "url2 = url.split(':')\n",
    "print(url2[0])"
   ]
  },
  {
   "cell_type": "code",
   "execution_count": 52,
   "id": "d2eeaebf-121b-4101-8f37-88f9e49362cc",
   "metadata": {},
   "outputs": [
    {
     "name": "stdout",
     "output_type": "stream",
     "text": [
      "{'f': 3, 'i': 4, 'n': 4, 'd': 1, ' ': 8, 't': 4, 'h': 4, 'e': 5, 'r': 4, 'q': 1, 'u': 1, 'c': 4, 'y': 1, 'o': 1, 'a': 3, 's': 2, 'g': 1}\n"
     ]
    }
   ],
   "source": [
    "freq = 'Find the frequency of each character in this string' #36\n",
    "freq = freq.lower()\n",
    "d = {}\n",
    "for item in freq:\n",
    "    if item in d:\n",
    "        d[item] += 1\n",
    "    else:\n",
    "        d[item] = 1\n",
    "print(d)"
   ]
  },
  {
   "cell_type": "code",
   "execution_count": 8,
   "id": "52e55577-ef6b-4a01-a98b-1cb4d75736ae",
   "metadata": {},
   "outputs": [
    {
     "name": "stdout",
     "output_type": "stream",
     "text": [
      "Remove all 123 punctuations from this string\n"
     ]
    }
   ],
   "source": [
    "punc = \"Remove all punctuations from ' this , string.\" #37 \n",
    "punctuation = ''\n",
    "for item in punc:\n",
    "    if item.isalnum():\n",
    "        punctuation += item\n",
    "    elif item == ' ':\n",
    "        punctuation += ' '\n",
    "    else:\n",
    "        punctuation = punctuation.rstrip()\n",
    "print(punctuation.rstrip())"
   ]
  },
  {
   "cell_type": "code",
   "execution_count": 11,
   "id": "200d1825-0b69-40cc-84a9-843efc895ef7",
   "metadata": {},
   "outputs": [
    {
     "name": "stdout",
     "output_type": "stream",
     "text": [
      "The string contains only digits\n"
     ]
    }
   ],
   "source": [
    "digits_check = \"123456\" #38 \n",
    "che = 0\n",
    "for item in digits_check:\n",
    "    if item.isnumeric(): #This will capture and increment the counter for all digits only\n",
    "        che += 1\n",
    "if che == len(digits_check): #If the number of digits present is equal to the total number of characters\n",
    "    print('The string contains only digits') # that means the string contains only digits \n",
    "else:\n",
    "    print('The string does not contain only digits')"
   ]
  },
  {
   "cell_type": "code",
   "execution_count": 31,
   "id": "1638a1a2-8e02-4fed-8037-5bd7ef819399",
   "metadata": {},
   "outputs": [
    {
     "name": "stdout",
     "output_type": "stream",
     "text": [
      "The string contains only alphabets.\n"
     ]
    }
   ],
   "source": [
    "alpha_check = \"Check if this string contains only alphabets\" #39  \n",
    "check_1 = 0\n",
    "for item in alpha_check:\n",
    "    if item.isalpha() or item == ' ': #This will capture and increment the counter for all alphabets only\n",
    "        check_1 += 1\n",
    "if check_1 == len(alpha_check): #If the number of digits present is equal to the total number of characters\n",
    "    print('The string contains only alphabets.') # that means the string contains only digits \n",
    "else:\n",
    "    print('The string does not contain only alphabets.')"
   ]
  },
  {
   "cell_type": "code",
   "execution_count": 40,
   "id": "7663a1ef-7ccd-4700-b7cd-381198ea48ae",
   "metadata": {},
   "outputs": [
    {
     "name": "stdout",
     "output_type": "stream",
     "text": [
      "['C', 'o', 'n', 'v', 'e', 'r', 't', ' ', 't', 'h', 'i', 's', ' ', 's', 't', 'r', 'i', 'n', 'g', ' ', 't', 'o', ' ', 'a', ' ', 'l', 'i', 's', 't', ' ', 'o', 'f', ' ', 'c', 'h', 'a', 'r', 'a', 'c', 't', 'e', 'r', 's']\n"
     ]
    }
   ],
   "source": [
    "convert = \"Convert this string to a list of characters\" #40 \n",
    "list_char = []\n",
    "for item in convert:\n",
    "    list_char.append(item) #using append we can input every single character into the list \n",
    "print(list_char)"
   ]
  },
  {
   "cell_type": "code",
   "execution_count": 46,
   "id": "6dd4602c-bc8e-4c9e-a73f-467cce4f68d0",
   "metadata": {},
   "outputs": [
    {
     "name": "stdout",
     "output_type": "stream",
     "text": [
      "The strings are not anagrams\n"
     ]
    }
   ],
   "source": [
    "string_1 = 'abc def ghi 123456' #41 Check if two strings are anagrams.\n",
    "string_2 = 'def ghi abc 12s3456' \n",
    "d1 = {}\n",
    "d2 = {}\n",
    "for item in string_1:\n",
    "    if item in d1:\n",
    "        d1[item] += 1\n",
    "    else:\n",
    "        d1[item] = 1\n",
    "for item2 in string_2:\n",
    "    if item2 in d2:\n",
    "        d2[item2] += 1\n",
    "    else:\n",
    "        d2[item2] = 1\n",
    "        \n",
    "if d1 == d2:\n",
    "    print('The strings are anagrams')\n",
    "else:\n",
    "    print('The strings are not anagrams')"
   ]
  },
  {
   "cell_type": "code",
   "execution_count": 47,
   "id": "7b983156-d5e5-400c-9f28-26044b94d6bb",
   "metadata": {},
   "outputs": [
    {
     "data": {
      "text/plain": [
       "b'YWJjIDEyMzQ='"
      ]
     },
     "execution_count": 47,
     "metadata": {},
     "output_type": "execute_result"
    }
   ],
   "source": [
    "import base64 #42 Encode a string using Caesar cipher\n",
    "s = 'abc 1234'\n",
    "base64.b64encode(s.encode('utf-8'))"
   ]
  },
  {
   "cell_type": "code",
   "execution_count": 48,
   "id": "297e3094-e09a-4e7b-88dc-1a83a8e922b2",
   "metadata": {},
   "outputs": [
    {
     "ename": "AttributeError",
     "evalue": "'str' object has no attribute 'decode'",
     "output_type": "error",
     "traceback": [
      "\u001b[0;31m---------------------------------------------------------------------------\u001b[0m",
      "\u001b[0;31mAttributeError\u001b[0m                            Traceback (most recent call last)",
      "Cell \u001b[0;32mIn[48], line 3\u001b[0m\n\u001b[1;32m      1\u001b[0m \u001b[38;5;28;01mimport\u001b[39;00m \u001b[38;5;21;01mbase64\u001b[39;00m \u001b[38;5;66;03m#42 Encode a string using Caesar cipher\u001b[39;00m\n\u001b[1;32m      2\u001b[0m s \u001b[38;5;241m=\u001b[39m \u001b[38;5;124m\"\u001b[39m\u001b[38;5;124mb\u001b[39m\u001b[38;5;124m'\u001b[39m\u001b[38;5;124mYWJjIDEyMzQ=\u001b[39m\u001b[38;5;124m'\u001b[39m\u001b[38;5;124m\"\u001b[39m\n\u001b[0;32m----> 3\u001b[0m base64\u001b[38;5;241m.\u001b[39mb64decode(\u001b[43ms\u001b[49m\u001b[38;5;241;43m.\u001b[39;49m\u001b[43mdecode\u001b[49m(\u001b[38;5;124m'\u001b[39m\u001b[38;5;124mutf-8\u001b[39m\u001b[38;5;124m'\u001b[39m))\n",
      "\u001b[0;31mAttributeError\u001b[0m: 'str' object has no attribute 'decode'"
     ]
    }
   ],
   "source": [
    "import base64 #43 Encode a string using Caesar cipher\n",
    "s = \"b'YWJjIDEyMzQ='\"\n",
    "base64.b64decode(s.decode('utf-8'))"
   ]
  },
  {
   "cell_type": "code",
   "execution_count": 62,
   "id": "2a1ecbb2-6516-429d-8e60-7e427f61929a",
   "metadata": {},
   "outputs": [
    {
     "name": "stdout",
     "output_type": "stream",
     "text": [
      "in\n"
     ]
    }
   ],
   "source": [
    "frequent = \"Find the most frequent word in this string in\" #44\n",
    "stri = {}\n",
    "frequent = frequent.split()\n",
    "for item in frequent: \n",
    "    if item in stri:\n",
    "        stri[item] += 1\n",
    "    else:\n",
    "        stri[item] = 1\n",
    "print(max(stri, key=stri.get))"
   ]
  },
  {
   "cell_type": "code",
   "execution_count": 3,
   "id": "d3356d17-8ec4-4b25-bffc-afafb176f8b9",
   "metadata": {},
   "outputs": [
    {
     "name": "stdout",
     "output_type": "stream",
     "text": [
      "['Find', 'all', 'unique', 'words', 'in', 'this', 'string']\n"
     ]
    }
   ],
   "source": [
    "unique = \"Find all unique words unique in this string in\" #45 \n",
    "uni_str = {}\n",
    "unique = unique.split()\n",
    "for item in unique:\n",
    "    if item in uni_str:\n",
    "        uni_str[item] += 1\n",
    "    else:\n",
    "        uni_str[item] = 1\n",
    "print(list(uni_str.keys()))"
   ]
  },
  {
   "cell_type": "code",
   "execution_count": 8,
   "id": "52215f1a-7da1-44c2-bd13-783a3077d96c",
   "metadata": {},
   "outputs": [
    {
     "name": "stdout",
     "output_type": "stream",
     "text": [
      "The number of syllables in the string is 1\n"
     ]
    }
   ],
   "source": [
    "syllables = 'Count the number of syllables in this string' #46 This code is copied from Stack Overflow \n",
    "count = 0 #The reason is, counting syllables would require to handle many edge cases, so I wanted to look \n",
    "vowels = \"aeiouy\"  #for a code that was simple and comparable to my learning stage in Python. Hence, picked \n",
    "syllables = syllables.lower() #this one. I understand the working behind the code. \n",
    "if syllables[0] in vowels:\n",
    "    count += 1\n",
    "for index in range(1, len(syllables)):\n",
    "    if syllables[index] in vowels and syllables[index - 1] not in vowels:\n",
    "        count += 1\n",
    "        if syllables.endswith(\"e\"):\n",
    "            count -= 1\n",
    "if count == 0:\n",
    "    count += 1\n",
    "print(\"The number of syllables in the string is\", count)"
   ]
  },
  {
   "cell_type": "code",
   "execution_count": 11,
   "id": "3c87e65f-21f7-489d-85cf-0f388936bd20",
   "metadata": {},
   "outputs": [
    {
     "name": "stdout",
     "output_type": "stream",
     "text": [
      "The string contains special characters\n"
     ]
    }
   ],
   "source": [
    "special = 'Check if this string ,,\"__+ contains any special characters 123' #47\n",
    "spec_count = 0\n",
    "for item in special:\n",
    "    if item.isalnum() is False and item != ' ':\n",
    "        spec_count += 1\n",
    "if spec_count > 0:\n",
    "    print(\"The string contains special characters\")\n",
    "else:\n",
    "    print(\"The string does not contain special characters\")"
   ]
  },
  {
   "cell_type": "code",
   "execution_count": 2,
   "id": "409042aa-bb8e-469b-97b3-6bdbb6f6cdc5",
   "metadata": {},
   "outputs": [
    {
     "name": "stdin",
     "output_type": "stream",
     "text": [
      "Enter the nth number to remove a word with \"0th\" position assigned to the first word 1\n"
     ]
    },
    {
     "name": "stdout",
     "output_type": "stream",
     "text": [
      "Remove nth word from this string\n"
     ]
    }
   ],
   "source": [
    "nth_remove = 'Remove the nth word from this string' #48 \n",
    "nth = int(input('Enter the nth number to remove a word with \"0th\" position assigned to the first word'))\n",
    "nth_remove = nth_remove.split()\n",
    "removed = []\n",
    "for i in range(len(nth_remove)):\n",
    "    if i != nth:\n",
    "        removed.append(nth_remove[i])\n",
    "removed_str = ''\n",
    "for item in removed:\n",
    "    removed_str += item + ' '\n",
    "print(removed_str.rstrip())"
   ]
  },
  {
   "cell_type": "code",
   "execution_count": 4,
   "id": "e6c00af6-1bb8-4e6d-864f-0d2232936016",
   "metadata": {},
   "outputs": [
    {
     "name": "stdin",
     "output_type": "stream",
     "text": [
      "Enter the position to add a word in the nth position 3\n",
      "Enter the word to be inserted toyota\n"
     ]
    },
    {
     "name": "stdout",
     "output_type": "stream",
     "text": [
      "Insert a word toyota in the nth position in this string\n"
     ]
    }
   ],
   "source": [
    "nth_insert = 'Insert a word in the nth position in this string' #49\n",
    "n_th = int(input('Enter the position to add a word in the nth position'))\n",
    "nthword = input('Enter the word to be inserted')\n",
    "nth_insert = nth_insert.split()\n",
    "inserted = []\n",
    "for i in range(len(nth_insert)):\n",
    "    if i == n_th:\n",
    "        inserted.append(nthword) #Inserting a word at the nth position\n",
    "    inserted.append(nth_insert[i]) #Adding all the words to an empty list \n",
    "inserted_str = ''\n",
    "for item in inserted:\n",
    "    inserted_str += item + ' ' #Converting the list to a string\n",
    "print(inserted_str.rstrip())"
   ]
  },
  {
   "cell_type": "code",
   "execution_count": 6,
   "id": "01ece2ea-aa60-4751-8f49-1f2fe426e3a6",
   "metadata": {},
   "outputs": [
    {
     "name": "stdout",
     "output_type": "stream",
     "text": [
      "[['This is a test ', 'file for the 50th question ', 'in the Python Assignment.'], ['1', '1', '1'], ['2', '2', '2'], ['3', '3', '3'], ['4', '4', '4'], ['5', '5', '5']]\n"
     ]
    }
   ],
   "source": [
    "import csv  #50 Convert a csv string to a list of lists \n",
    "with open('CSVTest_File.csv', 'r') as read_obj: \n",
    "  \n",
    "    # Return a reader object which will \n",
    "    # iterate over lines in the given csvfile \n",
    "    csv_reader = csv.reader(read_obj) \n",
    "  \n",
    "    # convert string to list \n",
    "    list_of_csv = list(csv_reader) \n",
    "  \n",
    "    print(list_of_csv) "
   ]
  },
  {
   "cell_type": "code",
   "execution_count": null,
   "id": "a7cb07e3-50a4-4f7c-94d3-a4cdf29dff6d",
   "metadata": {},
   "outputs": [],
   "source": [
    "#The below code is from the Lists Problems.  "
   ]
  },
  {
   "cell_type": "code",
   "execution_count": 11,
   "id": "2b3b1c80-fc62-42ca-86bb-7801226a70ea",
   "metadata": {},
   "outputs": [
    {
     "name": "stdout",
     "output_type": "stream",
     "text": [
      "[1, 2, 3, 4, 5, 6, 7, 8, 9, 10]\n"
     ]
    }
   ],
   "source": [
    "integers = [] #1 Create a list with integers from 1 to 10\n",
    "for j in range(1,11):\n",
    "    integers.append(j)\n",
    "print(integers)"
   ]
  },
  {
   "cell_type": "code",
   "execution_count": 13,
   "id": "7e364e25-c8d6-4171-8570-69064f7fb88b",
   "metadata": {},
   "outputs": [
    {
     "name": "stdout",
     "output_type": "stream",
     "text": [
      "The length of the list is:  5\n"
     ]
    }
   ],
   "source": [
    "length = [1,2,3,4,5] #2 Find the length of this list without using the length function\n",
    "count_len = 0\n",
    "for j in length:\n",
    "    count_len += 1\n",
    "print('The length of the list is: ', count_len)"
   ]
  },
  {
   "cell_type": "code",
   "execution_count": 15,
   "id": "e020d9ef-89b0-43ee-96a7-85df37a26b78",
   "metadata": {},
   "outputs": [
    {
     "name": "stdout",
     "output_type": "stream",
     "text": [
      "[2, 'this', 3, 4, 5, '678']\n"
     ]
    }
   ],
   "source": [
    "append_list = [2, 'this', 3, 4, 5] #3 Append an element to the end of a list\n",
    "append_list.append('678')\n",
    "print(append_list)"
   ]
  },
  {
   "cell_type": "code",
   "execution_count": 18,
   "id": "c73d4199-2ff9-4be6-a451-a1c725d8fed9",
   "metadata": {},
   "outputs": [
    {
     "name": "stdin",
     "output_type": "stream",
     "text": [
      "Enter the position where you want to insert the element 4\n",
      "Enter the element you want to insert: 435\n"
     ]
    },
    {
     "name": "stdout",
     "output_type": "stream",
     "text": [
      "[1, 2, 3, 4, '435', 5, 6, 7, 8, 9, 10]\n"
     ]
    }
   ],
   "source": [
    "ins_list = [1,2,3,4,5,6,7,8,9,10] #4 Insert an element at a specific index in a list\n",
    "index = int(input(\"Enter the position where you want to insert the element\"))\n",
    "element_insert = input('Enter the element you want to insert:')\n",
    "specific_list = []\n",
    "for element in range(0, len(ins_list)):\n",
    "    if element == index:\n",
    "        specific_list.append(element_insert)\n",
    "    specific_list.append(ins_list[element])\n",
    "print(specific_list)"
   ]
  },
  {
   "cell_type": "code",
   "execution_count": 20,
   "id": "732631b2-385e-426e-952f-31fd1e290e07",
   "metadata": {},
   "outputs": [
    {
     "name": "stdout",
     "output_type": "stream",
     "text": [
      "[2, 4, 6, 8, 10, 'an', 'element']\n"
     ]
    }
   ],
   "source": [
    "rem_list = [2, 4, 6, 8, 10, 'Remove', 'an', 'element'] #5 Remove an element from a list by its value\n",
    "rem_list.remove('Remove')\n",
    "print(rem_list)"
   ]
  },
  {
   "cell_type": "code",
   "execution_count": 21,
   "id": "a6da1205-dc9f-4da6-b435-b07bbeef54a0",
   "metadata": {},
   "outputs": [
    {
     "name": "stdin",
     "output_type": "stream",
     "text": [
      "Enter the position of the element you want to remove 3\n"
     ]
    },
    {
     "name": "stdout",
     "output_type": "stream",
     "text": [
      "[1, 2, 3, 5]\n"
     ]
    }
   ],
   "source": [
    "ind_list = [1,2,3,4,5] #6 move an element from a list by its index\n",
    "index = int(input('Enter the position of the element you want to remove'))\n",
    "index_list = []\n",
    "for i in range(0,len(ind_list)):\n",
    "    if i == index:\n",
    "        pass\n",
    "    else:\n",
    "        index_list.append(ind_list[i])\n",
    "print(index_list)"
   ]
  },
  {
   "cell_type": "code",
   "execution_count": 27,
   "id": "46d7f315-d6a1-4762-8ca8-198111921a0a",
   "metadata": {},
   "outputs": [
    {
     "name": "stdin",
     "output_type": "stream",
     "text": [
      "Enter the element to check whether it exists in the string 4\n"
     ]
    },
    {
     "name": "stdout",
     "output_type": "stream",
     "text": [
      "The element exists in the list\n"
     ]
    }
   ],
   "source": [
    "check_list = ['Check','1','2','3','4','5','Element'] #7 Check if an element exists in a list\n",
    "elem = (input(\"Enter the element to check whether it exists in the string\"))\n",
    "c = 0\n",
    "for item in check_list:\n",
    "     if item == elem:\n",
    "        c = 1\n",
    "        print('The element exists in the list')\n",
    "        break\n",
    "if c== 0:\n",
    "    print(\"the element does not exist in the list\")"
   ]
  },
  {
   "cell_type": "code",
   "execution_count": 30,
   "id": "092dfd99-db66-4698-b18b-11c1eb72e280",
   "metadata": {},
   "outputs": [
    {
     "data": {
      "text/plain": [
       "1"
      ]
     },
     "execution_count": 30,
     "metadata": {},
     "output_type": "execute_result"
    }
   ],
   "source": [
    "occur = ['Occurrence','1','2','3','4','5', '1','Element'] # 8 Find the index of the first occurrence \n",
    "#of an element in a list\n",
    "occur.index('1')"
   ]
  },
  {
   "cell_type": "code",
   "execution_count": 34,
   "id": "dc1651db-eb30-4ed5-a583-8f62ad910aaa",
   "metadata": {},
   "outputs": [
    {
     "name": "stdin",
     "output_type": "stream",
     "text": [
      "Enter the element whose number of occurrences we want to check 1\n"
     ]
    },
    {
     "name": "stdout",
     "output_type": "stream",
     "text": [
      "The number of occurrences of the given element are: 3\n"
     ]
    }
   ],
   "source": [
    "count_occurrences = ['Occurrence','1','2','2','3','4','5','1','1','Element'] #9 Count \n",
    "# the occurrences of an element in a list \n",
    "count_ele = input('Enter the element whose number of occurrences we want to check')\n",
    "t = 0\n",
    "for item in count_occurrences:\n",
    "    if item == count_ele:\n",
    "        t += 1\n",
    "print('The number of occurrences of the given element are:',t)"
   ]
  },
  {
   "cell_type": "code",
   "execution_count": 41,
   "id": "89e9bb53-207c-4df9-af96-587ddce5ac19",
   "metadata": {},
   "outputs": [
    {
     "name": "stdout",
     "output_type": "stream",
     "text": [
      "['list', 'this', 'in', 'elements', 'of', 'order', 'the', 'reverse']\n"
     ]
    }
   ],
   "source": [
    "reversing = ['reverse', 'the', 'order', 'of', 'elements', 'in', 'this', 'list'] #10\n",
    "print(reversing[7::-1])"
   ]
  },
  {
   "cell_type": "code",
   "execution_count": 51,
   "id": "ef8e0e77-e19e-453d-b400-5b63a60fa0db",
   "metadata": {},
   "outputs": [
    {
     "name": "stdout",
     "output_type": "stream",
     "text": [
      "[1, 2, 2, 2, 3, 4, 4, 5, 6, 6, 6, 7, 7, 7, 7, 8, 9, 56, 345, 345, 346, 5735]\n"
     ]
    }
   ],
   "source": [
    "sort = [1,2,7,4,6,2,6,7,9,3,5,6,7,8,2,56,7,4,5735,346,345,345] #11 Sort in ascending order \n",
    "sort.sort()\n",
    "print(sort)"
   ]
  },
  {
   "cell_type": "code",
   "execution_count": 52,
   "id": "19a06c68-767b-40a0-871f-35ce5dec5053",
   "metadata": {},
   "outputs": [
    {
     "name": "stdout",
     "output_type": "stream",
     "text": [
      "[5735, 346, 345, 345, 56, 9, 8, 7, 7, 7, 7, 6, 6, 6, 5, 4, 4, 3, 2, 2, 2, 1]\n"
     ]
    }
   ],
   "source": [
    "sort = [1,2,7,4,6,2,6,7,9,3,5,6,7,8,2,56,7,4,5735,346,345,345] #12 Sort in descending order \n",
    "sort.sort(reverse=True)\n",
    "print(sort)"
   ]
  },
  {
   "cell_type": "code",
   "execution_count": 61,
   "id": "c8585079-e6f1-4955-be7a-b500ae23fb59",
   "metadata": {},
   "outputs": [
    {
     "name": "stdout",
     "output_type": "stream",
     "text": [
      "[2, 4, 6, 8, 10, 12, 14, 16, 18, 20]\n"
     ]
    }
   ],
   "source": [
    "create_even = [] #13 Create a list of even numbers from 1 to 20\n",
    "for item in range(2, 21):\n",
    "    if item %2 == 0:\n",
    "        create_even.append(item)\n",
    "print(create_even)"
   ]
  },
  {
   "cell_type": "code",
   "execution_count": 62,
   "id": "228c97fd-5ad6-4ef7-880b-8ee5ae7d3dac",
   "metadata": {},
   "outputs": [
    {
     "name": "stdout",
     "output_type": "stream",
     "text": [
      "[1, 3, 5, 7, 9, 11, 13, 15, 17, 19]\n"
     ]
    }
   ],
   "source": [
    "create_odd = [] #14 Create a list of odd numbers from 1 to 20\n",
    "for item in range(0, 21):\n",
    "    if item %2 == 1:\n",
    "        create_odd.append(item)\n",
    "print(create_odd)"
   ]
  },
  {
   "cell_type": "code",
   "execution_count": 63,
   "id": "1d828337-787d-4caa-a468-79fcec555b13",
   "metadata": {},
   "outputs": [
    {
     "name": "stdout",
     "output_type": "stream",
     "text": [
      "The sum is: 37\n"
     ]
    }
   ],
   "source": [
    "find_sum = [1,2,3,4,4,5,6,6,6] #15 Find the sum of all elements in a list\n",
    "sum = 0\n",
    "for item in find_sum:\n",
    "    sum += item\n",
    "print('The sum is:', sum)"
   ]
  },
  {
   "cell_type": "code",
   "execution_count": 64,
   "id": "8590c2c6-c4c3-4fba-b915-18d173063c0e",
   "metadata": {},
   "outputs": [
    {
     "name": "stdout",
     "output_type": "stream",
     "text": [
      "The maximum value is: 5735\n"
     ]
    }
   ],
   "source": [
    "find_max = [1,2,7,4,6,2,6,7,9,3,5,6,7,8,2,56,7,4,5735,346,345,345] #16 Find the max value in this list\n",
    "max_val = 0\n",
    "for item in find_max:\n",
    "    if item>max_val:\n",
    "        max_val = item\n",
    "print('The maximum value is:',max_val)"
   ]
  },
  {
   "cell_type": "code",
   "execution_count": 72,
   "id": "05c3d8d5-f94b-4531-b07c-631a6120a7f0",
   "metadata": {},
   "outputs": [
    {
     "name": "stdout",
     "output_type": "stream",
     "text": [
      "The minimum value is: -91\n"
     ]
    }
   ],
   "source": [
    "find_min = [1,2,7,4,6,2,6,7,9,3,5,6,7,-91,8,2,56,7,4,5735,346,345,345] #17 Find the min value in this list\n",
    "min_val = 9999\n",
    "for item in find_min:\n",
    "    if item<min_val:\n",
    "        min_val = item\n",
    "print('The minimum value is:', min_val)"
   ]
  },
  {
   "cell_type": "code",
   "execution_count": 74,
   "id": "64423566-740a-43ad-b3b6-d6cd348c238f",
   "metadata": {},
   "outputs": [
    {
     "name": "stdout",
     "output_type": "stream",
     "text": [
      "[1, 4, 9, 16, 25, 36, 49, 64, 81, 100]\n"
     ]
    }
   ],
   "source": [
    "list_squares = [] #18 Create a list of squares of numbers from 1 to 10\n",
    "for item in range(1,11):\n",
    "    list_squares.append(item**2)\n",
    "print(list_squares)"
   ]
  },
  {
   "cell_type": "code",
   "execution_count": 75,
   "id": "fff80b76-468c-49f6-aad8-971be366c614",
   "metadata": {},
   "outputs": [
    {
     "name": "stdout",
     "output_type": "stream",
     "text": [
      "[13, 2, 29, 31, 90, 32, 98, 85, 15, 24]\n"
     ]
    }
   ],
   "source": [
    "import random  #19 Create a list of random numbers \n",
    "list_random = [] \n",
    "for i in range(10):\n",
    "    list_random.append(random.randint(1,100))\n",
    "print(list_random)"
   ]
  },
  {
   "cell_type": "code",
   "execution_count": 77,
   "id": "8ccc88d3-d0e6-4adb-a19c-33f6256f6a1b",
   "metadata": {},
   "outputs": [
    {
     "name": "stdout",
     "output_type": "stream",
     "text": [
      "[1, 2, 3, 4, 5, 6, 7, -91, 9, 8, 5735, 56, 345, 346]\n"
     ]
    }
   ],
   "source": [
    "duplicates = [1,2,7,4,6,2,6,7,9,3,5,6,7,-91,8,2,56,7,4,5735,346,345,345] #20 Remove duplicates from this list\n",
    "duplicates2 = list(set(duplicates)) #since set contains unique values only, we type cast the list to a set \n",
    "#and back to a list to remove duplicates.\n",
    "print(duplicates2)"
   ]
  },
  {
   "cell_type": "code",
   "execution_count": 80,
   "id": "efcbc00f-f237-4e0b-8a32-ee336ab639e2",
   "metadata": {},
   "outputs": [
    {
     "name": "stdout",
     "output_type": "stream",
     "text": [
      "The common elements are: [3, 6, 7, 8]\n"
     ]
    }
   ],
   "source": [
    "list_1 = [1,2,3,4,54,5,6,7,8,9]  #21 Find the common elements between two lists.\n",
    "list_2 = [6,3,7,8,12,34,45,66,88]\n",
    "common = []\n",
    "for item_1 in list_1:\n",
    "    for item_2 in list_2:\n",
    "        if item_1 == item_2:\n",
    "            common.append(item_1)\n",
    "print('The common elements are:', common)"
   ]
  },
  {
   "cell_type": "code",
   "execution_count": 90,
   "id": "544f6b6c-740c-45eb-ba8b-369fe4a095a9",
   "metadata": {},
   "outputs": [
    {
     "name": "stdout",
     "output_type": "stream",
     "text": [
      "The different elements are: [1, 2, 4, 54, 5, 9, 12, 34, 45, 66, 88]\n"
     ]
    }
   ],
   "source": [
    "list_1a = [1,2,3,4,54,5,6,7,8,9]  #22 Find the difference between two lists.\n",
    "list_2a = [6,3,7,8,12,34,45,66,88]\n",
    "difference = []\n",
    "diff_count = 0\n",
    "list_3a = list_1a + list_2a\n",
    "for item in list_3a:\n",
    "    if item in list_1a and item not in list_2a:\n",
    "        difference.append(item)\n",
    "for item in list_3a:\n",
    "    if item not in list_1a and item in list_2a:\n",
    "        difference.append(item)\n",
    "print('The different elements are:', difference)"
   ]
  },
  {
   "cell_type": "code",
   "execution_count": 91,
   "id": "70b09f87-c457-432d-8334-ab5fe67da2d0",
   "metadata": {},
   "outputs": [
    {
     "name": "stdout",
     "output_type": "stream",
     "text": [
      "[1, 2, 3, 4, 54, 5, 6, 7, 8, 9, 6, 3, 7, 8, 12, 34, 45, 66, 88]\n"
     ]
    }
   ],
   "source": [
    "list_1a = [1,2,3,4,54,5,6,7,8,9]  #23 Merge two lists.\n",
    "list_2a = [6,3,7,8,12,34,45,66,88]\n",
    "list_3a = list_1a + list_2a \n",
    "print(list_3a)"
   ]
  },
  {
   "cell_type": "code",
   "execution_count": 92,
   "id": "44ebdf78-32f2-40e6-b37f-a669c4074ddf",
   "metadata": {},
   "outputs": [
    {
     "name": "stdout",
     "output_type": "stream",
     "text": [
      "[2, 4, 6, 8, 108, 10, 12, 14, 16, 18]\n"
     ]
    }
   ],
   "source": [
    "list_1a = [1,2,3,4,54,5,6,7,8,9] #24 Multiply all elements by 2\n",
    "list_2x = []\n",
    "for item in list_1a:\n",
    "    list_2x.append(item*2)\n",
    "print(list_2x)"
   ]
  },
  {
   "cell_type": "code",
   "execution_count": 93,
   "id": "3ec65463-a0dd-4aae-9357-3f5c6340cf6f",
   "metadata": {},
   "outputs": [
    {
     "name": "stdout",
     "output_type": "stream",
     "text": [
      "[2, 4, 54, 6, 8]\n"
     ]
    }
   ],
   "source": [
    "list_1a = [1,2,3,4,54,5,6,7,8,9] #25 Filter out even numbers from this list\n",
    "even_list = []\n",
    "for item in list_1a:\n",
    "    if item%2 == 0:\n",
    "        even_list.append(item)\n",
    "print(even_list)"
   ]
  },
  {
   "cell_type": "code",
   "execution_count": 3,
   "id": "1fecbd5b-c228-4e0f-9626-8baa46739718",
   "metadata": {},
   "outputs": [
    {
     "name": "stdout",
     "output_type": "stream",
     "text": [
      "[1, 2, 3, 4, 5]\n"
     ]
    }
   ],
   "source": [
    "list_strings = ['1', '2', '3', '4', '5'] #26 Convert a list of strings to a list of integers \n",
    "list_int = []\n",
    "for item in list_strings:\n",
    "    list_int.append(int(item))\n",
    "print(list_int)"
   ]
  },
  {
   "cell_type": "code",
   "execution_count": 4,
   "id": "7e58b612-c145-4fef-930b-5ee865b3fcb9",
   "metadata": {},
   "outputs": [
    {
     "name": "stdout",
     "output_type": "stream",
     "text": [
      "['1', '2', '3', '4', '5']\n"
     ]
    }
   ],
   "source": [
    "list_integers = [1,2,3,4,5] #27 Convert a list of integers to a list of string\n",
    "list_str = []\n",
    "for item in list_integers:\n",
    "    list_str.append(str(item))\n",
    "print(list_str)"
   ]
  },
  {
   "cell_type": "code",
   "execution_count": 18,
   "id": "472ac40f-6e60-4c6d-82c7-1c47562c20ee",
   "metadata": {},
   "outputs": [
    {
     "name": "stdout",
     "output_type": "stream",
     "text": [
      "[1, 2, 1, 2, 3, 4, 5, 6, 7, 8]\n"
     ]
    }
   ],
   "source": [
    "flat = [1,2,[1,2,3,4],[5,6],7,8] # 28 Flatten a nested list \n",
    "flattened = []\n",
    "for item in flat:\n",
    "    if type(item) == list:  #Checking whether the element within the list is also a list\n",
    "        for i in item:  #Iterating over the elements within a list within a list.\n",
    "            flattened.append(i) #Adding items to a separate list.\n",
    "    else:\n",
    "        flattened.append(item)\n",
    "print(flattened)"
   ]
  },
  {
   "cell_type": "code",
   "execution_count": 14,
   "id": "ac6c0d48-6e92-48ba-943f-7ea2c5c57608",
   "metadata": {},
   "outputs": [
    {
     "name": "stdout",
     "output_type": "stream",
     "text": [
      "[0, 1, 1, 2, 3, 5, 8, 13, 21, 34]\n"
     ]
    }
   ],
   "source": [
    "fibonacci = [0,1] # 29 Create a list of the first 10 Fibonacci numbers \n",
    "i = 1\n",
    "for j in range(2, 10):\n",
    "    if len(fibonacci) == 10:\n",
    "        break\n",
    "    else:\n",
    "        fibonacci.append(i)\n",
    "        i += fibonacci[j-1]\n",
    "print(fibonacci)"
   ]
  },
  {
   "cell_type": "code",
   "execution_count": 48,
   "id": "361a7bf2-f57b-4b25-8da1-415ebfdc9097",
   "metadata": {},
   "outputs": [
    {
     "name": "stdout",
     "output_type": "stream",
     "text": [
      "The list is sorted\n"
     ]
    }
   ],
   "source": [
    "check_sort = [1,2,3,4,5,6,7] #30 Check if a list is sorted or not.\n",
    "j = 0\n",
    "for i in range(0, len(check_sort)):\n",
    "    if i == 0:\n",
    "        pass\n",
    "    elif check_sort[i] >= check_sort[i-1]:\n",
    "        j += 1\n",
    "    else:\n",
    "        j = 0\n",
    "        break\n",
    "if j != 0:\n",
    "    print('The list is sorted')\n",
    "else:\n",
    "    print('The list is not sorted')"
   ]
  },
  {
   "cell_type": "code",
   "execution_count": 49,
   "id": "c8a5f30e-0d5a-4643-8f8d-e945ade58c3f",
   "metadata": {},
   "outputs": [
    {
     "name": "stdin",
     "output_type": "stream",
     "text": [
      "Enter the number to rotate the list from the nth position 2\n"
     ]
    },
    {
     "name": "stdout",
     "output_type": "stream",
     "text": [
      "[6, 1, 8, 5, 2]\n"
     ]
    }
   ],
   "source": [
    "rotate = [5,2,6,1,8] #31 Rotate a list to the left by 'n' positions\n",
    "n = int(input('Enter the number to rotate the list from the nth position'))\n",
    "rotate = rotate[n:] + rotate[:n]\n",
    "print(rotate)"
   ]
  },
  {
   "cell_type": "code",
   "execution_count": 50,
   "id": "7a260c40-4c06-4009-bc8a-850bddc548a1",
   "metadata": {},
   "outputs": [
    {
     "name": "stdin",
     "output_type": "stream",
     "text": [
      "Enter the number to rotate the list from the nth position 2\n"
     ]
    },
    {
     "name": "stdout",
     "output_type": "stream",
     "text": [
      "[1, 8, 5, 2, 6]\n"
     ]
    }
   ],
   "source": [
    "rotate = [5,2,6,1,8] #32 Rotate a list to the right by 'n' positions\n",
    "n = int(input('Enter the number to rotate the list from the nth position'))\n",
    "rotate = rotate[-n:] + rotate[:-n]\n",
    "print(rotate)"
   ]
  },
  {
   "cell_type": "code",
   "execution_count": 59,
   "id": "bbd83d3a-96e9-445f-a5f3-c1ee612208e7",
   "metadata": {},
   "outputs": [
    {
     "name": "stdout",
     "output_type": "stream",
     "text": [
      "[2, 3, 5, 7, 11, 13, 17, 19, 23, 29, 31, 37, 41, 43, 47]\n"
     ]
    }
   ],
   "source": [
    "prime = [] #33 Create a list of prime numbers up to 50 \n",
    "a = 0\n",
    "for i in range(2,51):\n",
    "    for j in range (1, i+1):\n",
    "        if i % j == 0:\n",
    "            a += 1\n",
    "    if a == 2:\n",
    "        prime.append(i)\n",
    "    a = 0\n",
    "print(prime)   "
   ]
  },
  {
   "cell_type": "code",
   "execution_count": 4,
   "id": "82f643cd-9980-46f0-8d0b-15a6855236b1",
   "metadata": {},
   "outputs": [
    {
     "name": "stdin",
     "output_type": "stream",
     "text": [
      "Enter the number of chunks for the list to be split into 4\n"
     ]
    },
    {
     "name": "stdout",
     "output_type": "stream",
     "text": [
      "[1, 2, 3, 4]\n",
      "[5, 6, 7, 7]\n"
     ]
    }
   ],
   "source": [
    "split = [1,2,3,4,5,6,7,7] #34 Split a list into chunks of size n \n",
    "step = int(input('Enter the number of chunks for the list to be split into'))\n",
    "start = 0\n",
    "end = len(split) \n",
    "for i in range(start, end, step): \n",
    "    x = i \n",
    "    print(split[x:x+step]) "
   ]
  },
  {
   "cell_type": "code",
   "execution_count": 1,
   "id": "bdc3203b-cef7-460a-9956-c933c516f716",
   "metadata": {},
   "outputs": [
    {
     "name": "stdout",
     "output_type": "stream",
     "text": [
      "The second largest number is 346\n"
     ]
    }
   ],
   "source": [
    "second = [1,2,7,4,6,8,2,56,7,4,5735,346,345,345] #35 Find the second largest number in a list\n",
    "second.sort()\n",
    "print('The second largest number is', second[len(second)-2])"
   ]
  },
  {
   "cell_type": "code",
   "execution_count": 2,
   "id": "f15bac45-e112-43c5-bc51-7b0c1eca9128",
   "metadata": {},
   "outputs": [
    {
     "name": "stdout",
     "output_type": "stream",
     "text": [
      "[1, 4, 49, 16, 36, 64, 4, 3136, 49, 16]\n"
     ]
    }
   ],
   "source": [
    "sq_replace = [1,2,7,4,6,8,2,56,7,4] #36 Replace every element within a list with its square \n",
    "square = []\n",
    "for item in sq_replace:\n",
    "    square.append(item*item)\n",
    "print(square)"
   ]
  },
  {
   "cell_type": "code",
   "execution_count": 6,
   "id": "fa5638e8-71be-4de4-b79f-ac01927fe52d",
   "metadata": {},
   "outputs": [
    {
     "name": "stdout",
     "output_type": "stream",
     "text": [
      "{1: 0, 2: 6, 7: 8, 4: 9, 6: 4, 8: 5, 56: 7}\n"
     ]
    }
   ],
   "source": [
    "conv = [1,2,7,4,6,8,2,56,7,4] #37 Convert list to dictionary where elements = keys, indices = values\n",
    "list_dict = {}\n",
    "for i, val in enumerate(conv):\n",
    "    list_dict[val] = i\n",
    "print(list_dict)"
   ]
  },
  {
   "cell_type": "code",
   "execution_count": 16,
   "id": "8dfe1697-a9ce-4c1a-af9d-31387dff8c70",
   "metadata": {},
   "outputs": [
    {
     "name": "stdout",
     "output_type": "stream",
     "text": [
      "[7, 3, 6, 2, 4, 1, 8, 5]\n"
     ]
    }
   ],
   "source": [
    "import random #38 Shuffle the elements of a list randomly\n",
    "random1 = [1,2,3,4,5,6,7,8]\n",
    "randomin = []\n",
    "for item in random1:\n",
    "    randomin.insert(random.randint(0,len(randomin)),item)\n",
    "print(randomin)"
   ]
  },
  {
   "cell_type": "code",
   "execution_count": 1,
   "id": "e910c86c-87e7-4c65-a736-17d2fc8a4029",
   "metadata": {},
   "outputs": [
    {
     "name": "stdout",
     "output_type": "stream",
     "text": [
      "[1, 2, 6, 24, 120, 720, 5040, 40320, 362880, 3628800]\n"
     ]
    }
   ],
   "source": [
    "import math #39 Create a list of the first 10 factorial numbers\n",
    "factorial = []  \n",
    "for i in range(1, 11):\n",
    "    factorial.append(math.factorial(i))\n",
    "print(factorial)"
   ]
  },
  {
   "cell_type": "code",
   "execution_count": 4,
   "id": "c6c6fecb-d1e0-4968-8b64-e32f7f7f446b",
   "metadata": {},
   "outputs": [
    {
     "name": "stdout",
     "output_type": "stream",
     "text": [
      "The list has at least one element in common\n"
     ]
    }
   ],
   "source": [
    "check_1 = [1,2,3,4,5,6,7,8,9]  #Check whether two lists have at least one element in common\n",
    "check_2 = [10,11,12,13,14,15,16,17,3,18]\n",
    "z = 0\n",
    "for e in check_1:\n",
    "    for f in check_2:\n",
    "        if f == e:\n",
    "            z = 1\n",
    "            break\n",
    "if z == 1:\n",
    "    print('The list has at least one element in common')\n",
    "else:\n",
    "    print('The list does not have any element in common')"
   ]
  },
  {
   "cell_type": "code",
   "execution_count": 5,
   "id": "a6647760-443a-4d5a-94da-a6dbd621927c",
   "metadata": {},
   "outputs": [
    {
     "name": "stdout",
     "output_type": "stream",
     "text": [
      "[]\n"
     ]
    }
   ],
   "source": [
    "r = [1,2,3,4,5,6,7,8,9] #41 Remove all elements from a list \n",
    "r.clear()\n",
    "print(r)"
   ]
  },
  {
   "cell_type": "code",
   "execution_count": 7,
   "id": "9e8c4eb5-9e57-4b66-a89c-2c1ed8fdf39c",
   "metadata": {},
   "outputs": [
    {
     "name": "stdout",
     "output_type": "stream",
     "text": [
      "[1, 2, 3, 4, 0, 0, 0, 0]\n"
     ]
    }
   ],
   "source": [
    "negative = [1,2,3,4,-5,-6,-7,-8] #42 Replace negative numbers in a list with 0\n",
    "n = []\n",
    "for item in negative:\n",
    "    if item < 0:\n",
    "        n.append(0)\n",
    "    else:\n",
    "        n.append(item)\n",
    "print(n)"
   ]
  },
  {
   "cell_type": "code",
   "execution_count": 9,
   "id": "7b0010e1-a793-43cf-b81e-9a171b80dcb9",
   "metadata": {},
   "outputs": [
    {
     "name": "stdout",
     "output_type": "stream",
     "text": [
      "['This', 'is', 'a', 'list', 'of', 'words']\n"
     ]
    }
   ],
   "source": [
    "s = 'This is a list of words' #43 Convert a string into a list of words \n",
    "t = s.split()\n",
    "print(t)"
   ]
  },
  {
   "cell_type": "code",
   "execution_count": 10,
   "id": "45f8f2b1-5226-49a6-b278-8a6d473fe60e",
   "metadata": {},
   "outputs": [
    {
     "name": "stdout",
     "output_type": "stream",
     "text": [
      "This is a list of words\n"
     ]
    }
   ],
   "source": [
    "list_words = ['This', 'is', 'a', 'list', 'of', 'words'] #44 Convert a list of words into a string\n",
    "str_words = ''\n",
    "for item in list_words:\n",
    "    str_words += item + ' '\n",
    "print(str_words.rstrip())"
   ]
  },
  {
   "cell_type": "code",
   "execution_count": 23,
   "id": "72f46e33-5932-4eec-b2cb-7381d6c18551",
   "metadata": {},
   "outputs": [
    {
     "name": "stdin",
     "output_type": "stream",
     "text": [
      "Enter the value upto which powers of 2 will be calculated 6\n"
     ]
    },
    {
     "name": "stdout",
     "output_type": "stream",
     "text": [
      "[2, 4, 8, 16, 32, 64]\n"
     ]
    }
   ],
   "source": [
    "powers = [] #45 Create a list of the first n powers of 2\n",
    "n = int(input(\"Enter the value upto which powers of 2 will be calculated\"))\n",
    "p = 2\n",
    "for l in range(1, n+1):\n",
    "    if l == 1:\n",
    "        powers.append(2)\n",
    "    else:\n",
    "        for m in range(1, l):\n",
    "            p = p * 2\n",
    "        powers.append(p)\n",
    "    p = 2\n",
    "print(powers)"
   ]
  },
  {
   "cell_type": "code",
   "execution_count": 1,
   "id": "60ef5ac4-1fef-4aeb-b594-08aa581f2c63",
   "metadata": {},
   "outputs": [
    {
     "name": "stdout",
     "output_type": "stream",
     "text": [
      "The longest string is:- longest\n"
     ]
    }
   ],
   "source": [
    "find = ['Find', 'the', 'longest', 'string', 'in', 'this', 'list'] #46\n",
    "y, z, s = 0, 1, ''\n",
    "for item in find:\n",
    "    for element in item:\n",
    "        y += 1 \n",
    "    if y > z:\n",
    "        z = y\n",
    "        s = item\n",
    "    y = 0\n",
    "print('The longest string is:-', s)"
   ]
  },
  {
   "cell_type": "code",
   "execution_count": 37,
   "id": "1695cd39-81f5-49ab-bd4e-587048e6a2d8",
   "metadata": {},
   "outputs": [
    {
     "name": "stdout",
     "output_type": "stream",
     "text": [
      "The shortest string is:- in\n"
     ]
    }
   ],
   "source": [
    "find_shortest = ['Find', 'the', 'shortest', 'string', 'in', 'this', 'list'] #47\n",
    "y, z, s = 0, 100, ''\n",
    "for item in find_shortest:\n",
    "    for element in item:\n",
    "        y += 1 \n",
    "    if y < z:\n",
    "        z = y\n",
    "        s = item\n",
    "    y = 0\n",
    "print('The shortest string is:-', s)"
   ]
  },
  {
   "cell_type": "code",
   "execution_count": 18,
   "id": "26229166-19d7-4f59-9420-ecdfa1c24f54",
   "metadata": {},
   "outputs": [
    {
     "name": "stdin",
     "output_type": "stream",
     "text": [
      "Enter the value of n to receive n triangular numbers 3\n"
     ]
    },
    {
     "name": "stdout",
     "output_type": "stream",
     "text": [
      "[1, 3, 6]\n"
     ]
    }
   ],
   "source": [
    "n = int(input(\"Enter the value of n to receive n triangular numbers\")) #48\n",
    "j,k,tri = 1,1,[]\n",
    "for i in range(1, n + 1):\n",
    "    tri.append(k)\n",
    "    j = j + 1 # Increasing j by 1\n",
    "    k = k + j # Add value of j into k and update k\n",
    "print(tri)"
   ]
  },
  {
   "cell_type": "code",
   "execution_count": 4,
   "id": "2eebf855-9e3f-4e3c-9373-6fe3580401b8",
   "metadata": {},
   "outputs": [
    {
     "name": "stdout",
     "output_type": "stream",
     "text": [
      "The list contains another list as a subsequence\n"
     ]
    }
   ],
   "source": [
    "sub = [1,2,3,4,56,6,[1,2,3],4,4] #49 Check if a list contains another list as a subsequence\n",
    "z = 0\n",
    "for item in sub:\n",
    "    if type(item) == list:\n",
    "        z = 1\n",
    "if z == 1:\n",
    "    print('The list contains another list as a subsequence')\n",
    "else:\n",
    "    print('The list does not contain another list as a subsequence')"
   ]
  },
  {
   "cell_type": "code",
   "execution_count": 6,
   "id": "0227828d-7f87-4792-8cec-8f9acb6b780c",
   "metadata": {},
   "outputs": [
    {
     "name": "stdin",
     "output_type": "stream",
     "text": [
      "Enter the index of the element which needs to be changed 7\n",
      "Enter the index of the element with which the exchange needs to be made 3\n"
     ]
    },
    {
     "name": "stdout",
     "output_type": "stream",
     "text": [
      "[1, 2, 3, 8, 5, 6, 7, 4, 8]\n"
     ]
    }
   ],
   "source": [
    "swap = [1,2,3,4,5,6,7,8,8] #50 Swap two elements in a list by their indices\n",
    "n1 = int(input('Enter the index of the element which needs to be changed'))\n",
    "n2 = int(input('Enter the index of the element with which the exchange needs to be made'))\n",
    "swapped = []\n",
    "for i, val in enumerate(swap):\n",
    "    if i == n1:\n",
    "        swapped.append(swap[n2])\n",
    "    elif i == n2:\n",
    "        swapped.append(swap[n1])\n",
    "    else:\n",
    "        swapped.append(val)\n",
    "print(swapped)"
   ]
  },
  {
   "cell_type": "code",
   "execution_count": 7,
   "id": "b476bbf6-7cfd-464e-97fe-01fefc72fca1",
   "metadata": {},
   "outputs": [],
   "source": [
    "TUPLES "
   ]
  },
  {
   "cell_type": "code",
   "execution_count": 8,
   "id": "46a21797-a484-493b-9661-830ed6a92863",
   "metadata": {},
   "outputs": [
    {
     "name": "stdout",
     "output_type": "stream",
     "text": [
      "(1, 2, 3, 4, 5)\n"
     ]
    }
   ],
   "source": [
    "tu = (1,2,3,4,5) #1 Create a tuple with integers from 1 to 5\n",
    "print(tu)"
   ]
  },
  {
   "cell_type": "code",
   "execution_count": 9,
   "id": "0cf2fdce-4d0f-431d-b84c-e2dfa0876ff7",
   "metadata": {},
   "outputs": [
    {
     "name": "stdout",
     "output_type": "stream",
     "text": [
      "3\n"
     ]
    }
   ],
   "source": [
    "tup = (1,2,3,4,5) #2 Access the third element of a tuple \n",
    "print(tup[2])"
   ]
  },
  {
   "cell_type": "code",
   "execution_count": 1,
   "id": "32efb506-cdc8-4f7f-9002-28d0a23f8bf3",
   "metadata": {},
   "outputs": [
    {
     "name": "stdout",
     "output_type": "stream",
     "text": [
      "The length of the tuple is 6\n"
     ]
    }
   ],
   "source": [
    "len_t  = (1,2,3,4,5,5) #3 Find the length of a tuple without using the len() function \n",
    "count = 0 \n",
    "for item in len_t:\n",
    "    count += 1\n",
    "print('The length of the tuple is', count)"
   ]
  },
  {
   "cell_type": "code",
   "execution_count": 2,
   "id": "aa2f6019-91a3-4d6b-b97e-2266c4b99088",
   "metadata": {},
   "outputs": [
    {
     "name": "stdin",
     "output_type": "stream",
     "text": [
      "Enter the element whose occurrence is to be checked 6\n"
     ]
    },
    {
     "name": "stdout",
     "output_type": "stream",
     "text": [
      "The occurrence of the item is 3\n"
     ]
    }
   ],
   "source": [
    "count_occ = (1,2,3,4,5,6,6,6,) #4 Count the occurrences of an element in a tuple \n",
    "elem = int(input('Enter the element whose occurrence is to be checked'))\n",
    "d = 0\n",
    "for item in count_occ:\n",
    "    if item == elem:\n",
    "        d += 1\n",
    "print('The occurrence of the item is', d)"
   ]
  },
  {
   "cell_type": "code",
   "execution_count": 4,
   "id": "681e8086-a4e9-4849-8e59-84fecd82de01",
   "metadata": {},
   "outputs": [
    {
     "name": "stdin",
     "output_type": "stream",
     "text": [
      "Enter the element whose first occurrence is to be checked:- 3\n"
     ]
    },
    {
     "data": {
      "text/plain": [
       "2"
      ]
     },
     "execution_count": 4,
     "metadata": {},
     "output_type": "execute_result"
    }
   ],
   "source": [
    "check_index = (1,2,3,4,5,6) #5 Find the index of the first occurrence of an element\n",
    "t1 = int(input('Enter the element whose first occurrence is to be checked:-'))\n",
    "check_index.index(t1)"
   ]
  },
  {
   "cell_type": "code",
   "execution_count": 8,
   "id": "5d5aa3c6-ac2b-4c75-b1b4-a9bb7b848aab",
   "metadata": {},
   "outputs": [
    {
     "name": "stdout",
     "output_type": "stream",
     "text": [
      "Element exists\n"
     ]
    }
   ],
   "source": [
    "exists = (1,2,3,4,5,5) #6 Check if an element exists in a tuple \n",
    "t2, z = 3, 0\n",
    "for item in exists:\n",
    "    if item == t2:\n",
    "        z = 1\n",
    "if z == 1:\n",
    "    print('Element exists')\n",
    "else:\n",
    "    print('Element does not exist')"
   ]
  },
  {
   "cell_type": "code",
   "execution_count": 10,
   "id": "c46e5c6d-28ad-4eab-ac06-2de96274dc08",
   "metadata": {},
   "outputs": [
    {
     "name": "stdout",
     "output_type": "stream",
     "text": [
      "[1, 2, 3, 4, 5, 6]\n"
     ]
    }
   ],
   "source": [
    "tuple_list = (1,2,3,4,5,6) #7 Convert a tuple to a list\n",
    "print(list(tuple_list))"
   ]
  },
  {
   "cell_type": "code",
   "execution_count": 11,
   "id": "e52455ad-f1c9-42d6-af54-763a55713dfc",
   "metadata": {},
   "outputs": [
    {
     "name": "stdout",
     "output_type": "stream",
     "text": [
      "(1, 2, 3, 4, 5, 6)\n"
     ]
    }
   ],
   "source": [
    "list_tuple = [1,2,3,4,5,6] #8 Convert a list to a tuple \n",
    "print(tuple(list_tuple))"
   ]
  },
  {
   "cell_type": "code",
   "execution_count": 12,
   "id": "358e0451-8578-487e-9208-435d5e21e1b4",
   "metadata": {},
   "outputs": [
    {
     "name": "stdout",
     "output_type": "stream",
     "text": [
      "1 2 3\n"
     ]
    }
   ],
   "source": [
    "unpack = (1,2,3) #9 Unpack the elements of a tuple into variables\n",
    "(a,b,c) = unpack\n",
    "print(a,b,c)"
   ]
  },
  {
   "cell_type": "code",
   "execution_count": 14,
   "id": "ffe57a0d-6540-4b05-aeaf-65a61cad3d43",
   "metadata": {},
   "outputs": [
    {
     "name": "stdout",
     "output_type": "stream",
     "text": [
      "(2, 4, 6, 8, 10)\n"
     ]
    }
   ],
   "source": [
    "t_even = [] #10 Create a tuple of even numbers from 1 to 10\n",
    "for i in range(1,11):\n",
    "    if i % 2 == 0:\n",
    "        t_even.append(i)\n",
    "print(tuple(t_even))"
   ]
  },
  {
   "cell_type": "code",
   "execution_count": 15,
   "id": "fcde22d1-fb82-48a2-8c8d-493f1c81bb4b",
   "metadata": {},
   "outputs": [
    {
     "name": "stdout",
     "output_type": "stream",
     "text": [
      "(1, 3, 5, 7, 9)\n"
     ]
    }
   ],
   "source": [
    "t_odd = [] #11 Create a tuple of odd numbers from 1 to 10\n",
    "for i in range(1,11):\n",
    "    if i % 2 != 0:\n",
    "        t_odd.append(i)\n",
    "print(tuple(t_odd))"
   ]
  },
  {
   "cell_type": "code",
   "execution_count": 16,
   "id": "1b584ebe-b12c-4485-b91f-bea8f7e30b48",
   "metadata": {},
   "outputs": [
    {
     "name": "stdout",
     "output_type": "stream",
     "text": [
      "(1, 2, 3, 4, 5, 6, 7, 8)\n"
     ]
    }
   ],
   "source": [
    "tup1 = (1,2,3,4) #12 Concatenate 2 tuples \n",
    "tup2 = (5,6,7,8) \n",
    "tup3 = tup1 + tup2\n",
    "print(tup3)"
   ]
  },
  {
   "cell_type": "code",
   "execution_count": 17,
   "id": "e21abc6b-9210-463f-b641-7a44d339e4dc",
   "metadata": {},
   "outputs": [
    {
     "name": "stdout",
     "output_type": "stream",
     "text": [
      "(1, 2, 3, 4, 5, 1, 2, 3, 4, 5, 1, 2, 3, 4, 5)\n"
     ]
    }
   ],
   "source": [
    "tu1 = (1,2,3,4,5) #13 Repeat a tuple 3 times \n",
    "tu2 = tu1 *3 \n",
    "print(tu2)"
   ]
  },
  {
   "cell_type": "code",
   "execution_count": 18,
   "id": "5a1e1051-f7d8-4580-94ca-7c53aef61663",
   "metadata": {},
   "outputs": [
    {
     "name": "stdout",
     "output_type": "stream",
     "text": [
      "Tuple is empty\n"
     ]
    }
   ],
   "source": [
    "t_09 = () #14 Check if a tuple is empty \n",
    "if len(t_09) == 0:\n",
    "    print('Tuple is empty')\n",
    "else:\n",
    "    print('Tuple has elements')"
   ]
  },
  {
   "cell_type": "code",
   "execution_count": 19,
   "id": "3d88dfad-d836-4ae4-82aa-b55a0296ca65",
   "metadata": {},
   "outputs": [
    {
     "name": "stdout",
     "output_type": "stream",
     "text": [
      "(1, 2, 3, 4, 5, (1, 2, 3))\n"
     ]
    }
   ],
   "source": [
    "nest_tuple = (1,2,3,4,5,(1,2,3)) #15 create a nested tuple\n",
    "print(nest_tuple)"
   ]
  },
  {
   "cell_type": "code",
   "execution_count": 21,
   "id": "2a0b1869-c314-47d3-950c-5d27bf804728",
   "metadata": {},
   "outputs": [
    {
     "name": "stdout",
     "output_type": "stream",
     "text": [
      "1\n"
     ]
    }
   ],
   "source": [
    "nest_tuple = (1,2,3,4,5,(1,2,3)) #16 Access the first element of a nested tuple \n",
    "for item in nest_tuple:\n",
    "    if type(item) == tuple:\n",
    "        print(item[0])"
   ]
  },
  {
   "cell_type": "code",
   "execution_count": 22,
   "id": "6c35754e-8904-4920-bdbf-4cde40228d7c",
   "metadata": {},
   "outputs": [],
   "source": [
    "single = (1) #17 Create a tuple with a single element "
   ]
  },
  {
   "cell_type": "code",
   "execution_count": 24,
   "id": "36f1872b-eef3-4466-8d5e-c1a457830b5f",
   "metadata": {},
   "outputs": [
    {
     "name": "stdout",
     "output_type": "stream",
     "text": [
      "True\n"
     ]
    }
   ],
   "source": [
    "tup_c1 = (1,2,3,4,5) #18 Compare 2 tuples \n",
    "tup_c2 = (6,7,8)\n",
    "if tup_c1 < tup_c2:\n",
    "    print(True)\n",
    "else:\n",
    "    print(False)"
   ]
  },
  {
   "cell_type": "code",
   "execution_count": 27,
   "id": "afa3b23d-8b81-44ac-b37f-80e3d99d6cf8",
   "metadata": {},
   "outputs": [],
   "source": [
    "tup_del = (1,2,3,4) #19 Delete a tuple \n",
    "del tup_del"
   ]
  },
  {
   "cell_type": "code",
   "execution_count": 30,
   "id": "e42c62e6-3392-4d11-a2e6-51e5e9539e41",
   "metadata": {},
   "outputs": [
    {
     "name": "stdout",
     "output_type": "stream",
     "text": [
      "(1, 2, 3)\n"
     ]
    }
   ],
   "source": [
    "tup_slice = (1,2,3,4,5) #20 Slice a tuple \n",
    "print(tup_slice[:3])"
   ]
  },
  {
   "cell_type": "code",
   "execution_count": 32,
   "id": "6ed86cb0-bcd3-40a4-9820-763df1e8e985",
   "metadata": {},
   "outputs": [
    {
     "name": "stdout",
     "output_type": "stream",
     "text": [
      "the max value is 5\n"
     ]
    }
   ],
   "source": [
    "tup_max = (1,2,3,4,5) #21 Find the maximum value in a tuple \n",
    "print('the max value is',max(tup_max))"
   ]
  },
  {
   "cell_type": "code",
   "execution_count": 33,
   "id": "13576507-94cc-4e6d-924d-466be73f3d9a",
   "metadata": {},
   "outputs": [
    {
     "name": "stdout",
     "output_type": "stream",
     "text": [
      "the min value is 1\n"
     ]
    }
   ],
   "source": [
    "tup_min = (1,2,3,4,5) #22 Find the minimum value in a tuple \n",
    "print('the min value is',min(tup_min))"
   ]
  },
  {
   "cell_type": "code",
   "execution_count": 36,
   "id": "706b5e83-9b03-4275-8bed-584a8cc9428d",
   "metadata": {},
   "outputs": [
    {
     "name": "stdout",
     "output_type": "stream",
     "text": [
      "('C', 'o', 'n', 'v', 'e', 'r', 't', 't', 'o', 't', 'u', 'p', 'l', 'e')\n"
     ]
    }
   ],
   "source": [
    "str_tuple = \"Convert to tuple\" #23 Convert this string to a tuple of characters\n",
    "tu = []\n",
    "for item in str_tuple:\n",
    "    if item != ' ':\n",
    "        tu.append(item)\n",
    "print(tuple(tu))"
   ]
  },
  {
   "cell_type": "code",
   "execution_count": 37,
   "id": "86c63b32-0318-4a8a-a619-d28dc0853d59",
   "metadata": {},
   "outputs": [
    {
     "name": "stdout",
     "output_type": "stream",
     "text": [
      "Convert to tuple\n"
     ]
    }
   ],
   "source": [
    "tu_char = ('C', 'o', 'n', 'v', 'e', 'r', 't', ' ', 't', 'o', ' ', 't', 'u', 'p', 'l', 'e') #24 \n",
    "s = ''\n",
    "for item in tu_char:\n",
    "    s = s+item\n",
    "print(s)"
   ]
  },
  {
   "cell_type": "code",
   "execution_count": 49,
   "id": "359fcd0e-6585-4681-a4ee-465c78bc0769",
   "metadata": {},
   "outputs": [
    {
     "name": "stdout",
     "output_type": "stream",
     "text": [
      "('Multiple', 123, 123.12, True)\n"
     ]
    }
   ],
   "source": [
    "a = (\"Multiple\", 123, 123.12, True) #25 Create a tuple from multiple data types \n",
    "print(a)"
   ]
  },
  {
   "cell_type": "code",
   "execution_count": 61,
   "id": "d613aa4e-4f4b-4901-901e-1332bf14d730",
   "metadata": {},
   "outputs": [
    {
     "name": "stdout",
     "output_type": "stream",
     "text": [
      "Not identical\n"
     ]
    }
   ],
   "source": [
    "tup1 = (1,2,3,2,5) #26 Check if 2 tuples are identical\n",
    "tup2 = (2,4,2,5,1)\n",
    "if tup1 == tup2:\n",
    "    print('Tuples are identical')\n",
    "else:\n",
    "    print('Not identical')"
   ]
  },
  {
   "cell_type": "code",
   "execution_count": 66,
   "id": "0825a227-78b4-4461-8108-fcfb9c277441",
   "metadata": {},
   "outputs": [
    {
     "name": "stdout",
     "output_type": "stream",
     "text": [
      "(2, 2, 2, 3, 4, 4, 4, 5, 6, 6, 7)\n"
     ]
    }
   ],
   "source": [
    "tup3 = (2,3,4,2,4,4,6,7,6,2,5) #27 Sort the elements of a tuple \n",
    "tup4 = list(tup3)\n",
    "tup4.sort()\n",
    "tup4 = tuple(tup4)\n",
    "print(tup4)"
   ]
  },
  {
   "cell_type": "code",
   "execution_count": 68,
   "id": "d5243db6-9b01-4c88-9c48-5f077039dc68",
   "metadata": {},
   "outputs": [
    {
     "name": "stdout",
     "output_type": "stream",
     "text": [
      "('1', '2', '3', '4', '5', '6')\n"
     ]
    }
   ],
   "source": [
    "tup_int = (1,2,3,4,5,6) #28 Convert a tuple of integers to a tuple of string\n",
    "tup_list = []\n",
    "for item in tup_int:\n",
    "    tup_list.append(str(item))\n",
    "tup_ = tuple(tup_list)\n",
    "print(tup_)"
   ]
  },
  {
   "cell_type": "code",
   "execution_count": 69,
   "id": "c054a11a-0d59-45a5-aadb-8d3d1602604d",
   "metadata": {},
   "outputs": [
    {
     "name": "stdout",
     "output_type": "stream",
     "text": [
      "(1, 2, 3, 4, 5, 6)\n"
     ]
    }
   ],
   "source": [
    "tup_str = ('1', '2', '3', '4', '5', '6') #29 Convert a tuple of strings to a tuple of integers \n",
    "tup_list = []\n",
    "for item in tup_str:\n",
    "    tup_list.append(int(item))\n",
    "tup_ = tuple(tup_list)\n",
    "print(tup_)"
   ]
  },
  {
   "cell_type": "code",
   "execution_count": 70,
   "id": "6c23455b-9123-4f53-bf94-6c0e3814a924",
   "metadata": {},
   "outputs": [
    {
     "name": "stdout",
     "output_type": "stream",
     "text": [
      "(1, 2, 3, 4, 5, 6)\n"
     ]
    }
   ],
   "source": [
    "t1_mer = (1,2,3) #30 Merge two tuples\n",
    "t2_mer = (4,5,6)\n",
    "t3_mer = t1_mer + t2_mer\n",
    "print(t3_mer)"
   ]
  },
  {
   "cell_type": "code",
   "execution_count": 73,
   "id": "5cf4c73b-1fe5-4178-92d6-8f3911e0ad9f",
   "metadata": {},
   "outputs": [
    {
     "name": "stdout",
     "output_type": "stream",
     "text": [
      "(1, 2, 3, 1, 2, 3)\n"
     ]
    }
   ],
   "source": [
    "tup_nest = (1,2,3,(1,2,3)) #31 Flatten a nested tuple \n",
    "tup_flat = []\n",
    "for item in tup_nest:\n",
    "    if type(item) == tuple:\n",
    "        for i in item:\n",
    "            tup_flat.append(i)\n",
    "    else:\n",
    "        tup_flat.append(item)\n",
    "print(tuple(tup_flat))"
   ]
  },
  {
   "cell_type": "code",
   "execution_count": 76,
   "id": "e290f8ed-960e-4ffe-b94d-da55da402488",
   "metadata": {},
   "outputs": [
    {
     "name": "stdout",
     "output_type": "stream",
     "text": [
      "(2, 3, 5, 7, 11)\n"
     ]
    }
   ],
   "source": [
    "tup_prime = [] #32 Create a tuple of the first 5 prime numbers \n",
    "c = 0\n",
    "for item in range(1, 20):\n",
    "    for i in range (1, item+1):\n",
    "        if item % i == 0:\n",
    "            c += 1\n",
    "    if c == 2:\n",
    "        tup_prime.append(item)\n",
    "    if len(tup_prime) == 5:\n",
    "        break\n",
    "    c = 0\n",
    "print(tuple(tup_prime))"
   ]
  },
  {
   "cell_type": "code",
   "execution_count": 6,
   "id": "1492ef85-9e0d-4dce-a0e4-4b0ecd1cbb69",
   "metadata": {},
   "outputs": [
    {
     "name": "stdout",
     "output_type": "stream",
     "text": [
      "The tuple is a palindrome\n"
     ]
    }
   ],
   "source": [
    "tup_pali = (1,2,3,2,1) #33 Check if a tuple is a palindrome \n",
    "rev_tup = tup_pali[::-1]\n",
    "if rev_tup == tup_pali:\n",
    "    print('The tuple is a palindrome')\n",
    "else:\n",
    "    print('The tuple is not a palindrome')"
   ]
  },
  {
   "cell_type": "code",
   "execution_count": 7,
   "id": "f6eae8cd-672f-4c52-be22-4121b524e67b",
   "metadata": {},
   "outputs": [
    {
     "name": "stdout",
     "output_type": "stream",
     "text": [
      "(1, 4, 9, 16, 25)\n"
     ]
    }
   ],
   "source": [
    "tup_sq = [] #34 Create a tuple of squares of numbers from 1 to 5 \n",
    "for item in range(1, 6):\n",
    "    tup_sq.append(item**2)\n",
    "print(tuple(tup_sq))"
   ]
  },
  {
   "cell_type": "code",
   "execution_count": 9,
   "id": "ff00c7b9-dd71-46e0-9998-64db3bc217b9",
   "metadata": {},
   "outputs": [
    {
     "name": "stdout",
     "output_type": "stream",
     "text": [
      "The even numbers are (2, 4, 6)\n"
     ]
    }
   ],
   "source": [
    "tup_even_f = (1,2,3,4,5,6,7) #35 Filter out all even numbers from a tuple \n",
    "tup_even = []\n",
    "for item in tup_even_f:\n",
    "    if item %2 == 0:\n",
    "        tup_even.append(item)\n",
    "print('The even numbers are', tuple(tup_even))"
   ]
  },
  {
   "cell_type": "code",
   "execution_count": 11,
   "id": "13e6fd1f-c305-4dfa-b3b6-bc856320e6c8",
   "metadata": {},
   "outputs": [
    {
     "name": "stdout",
     "output_type": "stream",
     "text": [
      "(2, 4, 6, 8, 10)\n"
     ]
    }
   ],
   "source": [
    "tup_multiply = (1,2,3,4,5) #36 Multiply all elements in a tuple by 2\n",
    "multiply_list = []\n",
    "for item in tup_multiply:\n",
    "    multiply_list.append(item*2)\n",
    "print(tuple(multiply_list))"
   ]
  },
  {
   "cell_type": "code",
   "execution_count": 12,
   "id": "ee362c69-42a4-4201-a609-c8b5c3475dff",
   "metadata": {},
   "outputs": [
    {
     "name": "stdout",
     "output_type": "stream",
     "text": [
      "(74, 9, 67, 18, 38, 3, 47, 26, 12)\n"
     ]
    }
   ],
   "source": [
    "import random #37 Create a Tuple of random numbers \n",
    "random_list = []\n",
    "for item in range(1,10):\n",
    "    random_list.append(random.randint(1,100))\n",
    "print(tuple(random_list))"
   ]
  },
  {
   "cell_type": "code",
   "execution_count": 2,
   "id": "87f3a0e8-5396-48ac-98b7-67f8162cb510",
   "metadata": {},
   "outputs": [
    {
     "name": "stdout",
     "output_type": "stream",
     "text": [
      "The list is not sorted\n"
     ]
    }
   ],
   "source": [
    "tup_sort = (1,2,3,4,6,43,3,23) #38 Check if a tuple is sorted \n",
    "list_sort = list(tup_sort)\n",
    "list_sorted = list_sort.sort()\n",
    "if list_sort == list_sorted:\n",
    "    print('The tuple is sorted')\n",
    "else:\n",
    "    print('The list is not sorted')"
   ]
  },
  {
   "cell_type": "code",
   "execution_count": 3,
   "id": "1a3c76d1-0fab-431c-83e2-d9005657cbb6",
   "metadata": {},
   "outputs": [
    {
     "name": "stdin",
     "output_type": "stream",
     "text": [
      "Enter the number to rotate the list from the nth position 2\n"
     ]
    },
    {
     "name": "stdout",
     "output_type": "stream",
     "text": [
      "[6, 1, 8, 5, 2]\n"
     ]
    }
   ],
   "source": [
    "tup_rotate = (5,2,6,1,8) #39 Rotate a tuple to the left by 'n' positions\n",
    "tup_rotate = list(tup_rotate)\n",
    "n = int(input('Enter the number to rotate the list from the nth position'))\n",
    "tup_rotate = tup_rotate[n:] + tup_rotate[:n]\n",
    "print(tup_rotate)"
   ]
  },
  {
   "cell_type": "code",
   "execution_count": 4,
   "id": "082edec3-85b2-404c-a1cb-80ca8c042bd2",
   "metadata": {},
   "outputs": [
    {
     "name": "stdin",
     "output_type": "stream",
     "text": [
      "Enter the number to rotate the list from the nth position 4\n"
     ]
    },
    {
     "name": "stdout",
     "output_type": "stream",
     "text": [
      "[2, 6, 1, 8, 5]\n"
     ]
    }
   ],
   "source": [
    "rotate = (5,2,6,1,8) #40 Rotate a tuple to the right by 'n' positions\n",
    "rotate = list(rotate)\n",
    "n = int(input('Enter the number to rotate the list from the nth position'))\n",
    "rotate = rotate[-n:] + rotate[:-n]\n",
    "print(rotate)"
   ]
  },
  {
   "cell_type": "code",
   "execution_count": 3,
   "id": "9f772978-a04c-43a8-945e-ff574679fc2d",
   "metadata": {},
   "outputs": [
    {
     "name": "stdout",
     "output_type": "stream",
     "text": [
      "(0, 1, 1, 2, 3)\n"
     ]
    }
   ],
   "source": [
    "fib_list = [0,1] # 41 Create a list of the first 5 Fibonacci numbers \n",
    "i = 1\n",
    "for j in range(2, 10):\n",
    "    if len(fib_list) == 5:\n",
    "        break\n",
    "    else:\n",
    "        fib_list.append(i)\n",
    "        i += fib_list[j-1]\n",
    "print(tuple(fib_list))"
   ]
  },
  {
   "cell_type": "code",
   "execution_count": 4,
   "id": "f7639d5a-0d5d-46ac-bb60-a240a58b850b",
   "metadata": {},
   "outputs": [
    {
     "name": "stdin",
     "output_type": "stream",
     "text": [
      "Pls enter content to be converted to tuple as.kdjfbn\n"
     ]
    },
    {
     "name": "stdout",
     "output_type": "stream",
     "text": [
      "('a', 's', '.', 'k', 'd', 'j', 'f', 'b', 'n')\n"
     ]
    }
   ],
   "source": [
    "user = tuple(input(\"Pls enter content to be converted to tuple\")) #42 Create a tuple from user input\n",
    "print(user)"
   ]
  },
  {
   "cell_type": "code",
   "execution_count": 9,
   "id": "916e2157-8a25-4583-ab91-dcfd68c39d3b",
   "metadata": {},
   "outputs": [
    {
     "name": "stdin",
     "output_type": "stream",
     "text": [
      "Enter the index of the element to be swapped 2\n",
      "Enter the index of the element to be swapped with 4\n"
     ]
    },
    {
     "name": "stdout",
     "output_type": "stream",
     "text": [
      "(1, 2, 5, 4, 3)\n"
     ]
    }
   ],
   "source": [
    "swap_tup = (1,2,3,4,5) #43 Swap two elements within a tuple \n",
    "swap_list = []\n",
    "swap_tup = list(swap_tup)\n",
    "ind1 = int(input('Enter the index of the element to be swapped'))\n",
    "ind2 = int(input('Enter the index of the element to be swapped with'))\n",
    "for i, val in enumerate(swap_tup):\n",
    "    if i == ind1:\n",
    "        swap_list.append(swap_tup[ind2])\n",
    "    elif i == ind2:\n",
    "        swap_list.append(swap_tup[ind1])\n",
    "    else:   \n",
    "        swap_list.append(val)\n",
    "print(tuple(swap_list))"
   ]
  },
  {
   "cell_type": "code",
   "execution_count": 11,
   "id": "f9bd20bf-ea0b-4e67-affa-0e6146d884ff",
   "metadata": {},
   "outputs": [
    {
     "name": "stdout",
     "output_type": "stream",
     "text": [
      "(5, 4, 3, 2, 1)\n"
     ]
    }
   ],
   "source": [
    "rev_tup = (1,2,3,4,5) #44 Reverse the elements of this tuple \n",
    "rev_tup = list(rev_tup) \n",
    "rev_tup = rev_tup[::-1]\n",
    "print(tuple(rev_tup))"
   ]
  },
  {
   "cell_type": "code",
   "execution_count": 14,
   "id": "e76e93e2-7081-4855-9be9-516f7573eab3",
   "metadata": {},
   "outputs": [
    {
     "name": "stdin",
     "output_type": "stream",
     "text": [
      "Enter the number to print the first n powers of 2 5\n"
     ]
    },
    {
     "name": "stdout",
     "output_type": "stream",
     "text": [
      "(2, 4, 8, 16, 32)\n"
     ]
    }
   ],
   "source": [
    "n_2 = int(input(\"Enter the number to print the first n powers of 2\")) #45 Tuple for first n powers of 2\n",
    "powers = []\n",
    "for item in range(1, n_2+1):\n",
    "    powers.append(2**item)\n",
    "print(tuple(powers))"
   ]
  },
  {
   "cell_type": "code",
   "execution_count": 16,
   "id": "abfbaa44-5e9d-4451-8379-b2e4e252e9d5",
   "metadata": {},
   "outputs": [
    {
     "name": "stdout",
     "output_type": "stream",
     "text": [
      "The longest string is:- longest\n"
     ]
    }
   ],
   "source": [
    "find_tup = ('Find', 'the', 'longest', 'string', 'in', 'this', 'tuple') #46 Find the longest string\n",
    "y1, z1, s1 = 0, 1, ''\n",
    "find_tup = list(find_tup)\n",
    "for item in find_tup:\n",
    "    for element in item:\n",
    "        y1 += 1 \n",
    "    if y1 > z1:\n",
    "        z1 = y1\n",
    "        s1 = item\n",
    "    y1 = 0\n",
    "print('The longest string is:-', s1)"
   ]
  },
  {
   "cell_type": "code",
   "execution_count": 17,
   "id": "16ea5442-23f9-4502-9565-c1631770c45c",
   "metadata": {},
   "outputs": [
    {
     "name": "stdout",
     "output_type": "stream",
     "text": [
      "The shortest string is:- in\n"
     ]
    }
   ],
   "source": [
    "find_shortup = ['Find', 'the', 'shortest', 'string', 'in', 'this', 'tuple'] #47 Find the shortest tuple \n",
    "y2, z2, s2 = 0, 100, ''\n",
    "for item in find_shortup:\n",
    "    for element in item:\n",
    "        y2 += 1 \n",
    "    if y2 < z2:\n",
    "        z2 = y2\n",
    "        s2 = item\n",
    "    y2 = 0\n",
    "print('The shortest string is:-', s2)"
   ]
  },
  {
   "cell_type": "code",
   "execution_count": 22,
   "id": "b98d047b-7c4e-40bb-9890-4a26faba4780",
   "metadata": {},
   "outputs": [
    {
     "name": "stdin",
     "output_type": "stream",
     "text": [
      "Enter the value of n to receive n triangular numbers 3\n"
     ]
    },
    {
     "name": "stdout",
     "output_type": "stream",
     "text": [
      "(1, 3, 6)\n"
     ]
    }
   ],
   "source": [
    "n3 = int(input(\"Enter the value of n to receive n triangular numbers\")) #48\n",
    "j3,k3,tri3 = 1,1,[]\n",
    "for i in range(1, n3 + 1):\n",
    "    tri3.append(k3)\n",
    "    j3 = j3 + 1 # Increasing j by 1\n",
    "    k3 = k3 + j3 # Add value of j into k and update k\n",
    "print(tuple(tri3))"
   ]
  },
  {
   "cell_type": "code",
   "execution_count": 23,
   "id": "c33d7fcc-22f4-4fbf-950d-031fffbb94a6",
   "metadata": {},
   "outputs": [
    {
     "name": "stdout",
     "output_type": "stream",
     "text": [
      "The tuple contains another tuple\n"
     ]
    }
   ],
   "source": [
    "check_tup = (1,2,3,4,5,(1,2,3)) #49 Check if a tuple contains another tuple \n",
    "check_tup = list(check_tup)\n",
    "z = 0 \n",
    "for i in check_tup:\n",
    "    if type(i) == tuple:\n",
    "        z = 1\n",
    "if z == 1:\n",
    "    print(\"The tuple contains another tuple\")"
   ]
  },
  {
   "cell_type": "code",
   "execution_count": 3,
   "id": "b81567e5-85a2-43fc-9872-ca7c864a5145",
   "metadata": {},
   "outputs": [
    {
     "name": "stdin",
     "output_type": "stream",
     "text": [
      "Enter the length of the tuple 5\n"
     ]
    },
    {
     "name": "stdout",
     "output_type": "stream",
     "text": [
      "(1, 0, 1, 0, 1)\n"
     ]
    }
   ],
   "source": [
    "create_10 = [] #50 Create a tuple of alternating 1s and 0s of length 'n'\n",
    "n_10 = int(input('Enter the length of the tuple'))\n",
    "for item in range(0, n_10):\n",
    "    if item%2 == 0:\n",
    "        create_10.append(1)\n",
    "    else:\n",
    "        create_10.append(0)\n",
    "print(tuple(create_10))"
   ]
  },
  {
   "cell_type": "code",
   "execution_count": null,
   "id": "16495477-ce20-41b2-b174-7efadcb7048a",
   "metadata": {},
   "outputs": [],
   "source": [
    "SETS "
   ]
  },
  {
   "cell_type": "code",
   "execution_count": 4,
   "id": "65c72d0c-ffee-4dee-a612-2a9a10730d23",
   "metadata": {},
   "outputs": [
    {
     "name": "stdout",
     "output_type": "stream",
     "text": [
      "<class 'set'>\n"
     ]
    }
   ],
   "source": [
    "set1 = {1,2,3,4,5} #1 Create a set with integers from 1 to 5 \n",
    "print(type(set1))"
   ]
  },
  {
   "cell_type": "code",
   "execution_count": 16,
   "id": "b60f01dc-b799-474d-84dc-209d76ee03b1",
   "metadata": {},
   "outputs": [
    {
     "name": "stdout",
     "output_type": "stream",
     "text": [
      "{1, 2, 3, 4}\n"
     ]
    }
   ],
   "source": [
    "set2 = {1,2,3} #2 Add an element to a set \n",
    "set2 = list(set2)\n",
    "set2.append(4)\n",
    "print(set(set2))"
   ]
  },
  {
   "cell_type": "markdown",
   "id": "940d293f-1ba0-4fb4-9089-50d2c2e92f18",
   "metadata": {},
   "source": [
    "set3 = {1,2,3,4,5} #"
   ]
  },
  {
   "cell_type": "code",
   "execution_count": 18,
   "id": "1d40e432-bcf3-44f3-aff8-5fe277a6039a",
   "metadata": {},
   "outputs": [
    {
     "name": "stdout",
     "output_type": "stream",
     "text": [
      "{1, 2, 4, 5}\n"
     ]
    }
   ],
   "source": [
    "set3 = {1,2,3,4,5} #3 Remove an element from a set \n",
    "set3 = list(set3) \n",
    "set3.remove(3)\n",
    "print(set(set3))"
   ]
  },
  {
   "cell_type": "code",
   "execution_count": 19,
   "id": "a68f33aa-c0ba-4a07-9995-f6c2d5db067e",
   "metadata": {},
   "outputs": [
    {
     "name": "stdin",
     "output_type": "stream",
     "text": [
      "Enter the element whose existence you want to check 3\n"
     ]
    },
    {
     "name": "stdout",
     "output_type": "stream",
     "text": [
      "Element exists\n"
     ]
    }
   ],
   "source": [
    "set4  = {1,2,3,4,5} #4 Check if an element exists in a set\n",
    "set4 = list(set4)\n",
    "n4 = int(input(\"Enter the element whose existence you want to check\")) \n",
    "z = 0\n",
    "for item in set4:\n",
    "    if item == n4: \n",
    "        z = 1 \n",
    "if z == 1: \n",
    "    print(\"Element exists\")\n",
    "else:\n",
    "    print(\"element does not exist\")"
   ]
  },
  {
   "cell_type": "code",
   "execution_count": 20,
   "id": "11c8e91a-5b22-4ac5-95d3-1b7b4ef2132a",
   "metadata": {},
   "outputs": [
    {
     "name": "stdout",
     "output_type": "stream",
     "text": [
      "The lenth of the set is 5\n"
     ]
    }
   ],
   "source": [
    "set5 = {1,2,3,4,5} #5 Find the length of a set without using len() function \n",
    "set5 = list(set5)\n",
    "n5 = 0 \n",
    "for item in set5: \n",
    "    n5 += 1\n",
    "print(\"The lenth of the set is\",n5)"
   ]
  },
  {
   "cell_type": "code",
   "execution_count": 2,
   "id": "73d86a51-b90b-4921-bc7d-7bd2fdacb0a0",
   "metadata": {},
   "outputs": [
    {
     "name": "stdout",
     "output_type": "stream",
     "text": [
      "set()\n"
     ]
    }
   ],
   "source": [
    "set6 = {1,2,3,4} #6 Clear all elements of a set\n",
    "set6 = list(set6)\n",
    "set6.clear()\n",
    "print(set(set6))"
   ]
  },
  {
   "cell_type": "code",
   "execution_count": 5,
   "id": "a694b33c-69b5-4290-a8b5-f451d9b441a5",
   "metadata": {},
   "outputs": [
    {
     "name": "stdout",
     "output_type": "stream",
     "text": [
      "{2, 4, 6, 8, 10}\n"
     ]
    }
   ],
   "source": [
    "set7 = [] #7 Create a set of even numbers from 1 to 10\n",
    "for item in range(1,11):\n",
    "    if item%2 == 0:\n",
    "        set7.append(item)\n",
    "print(set(set7))"
   ]
  },
  {
   "cell_type": "code",
   "execution_count": 9,
   "id": "182d2b97-ddc9-4a94-830a-4bfb672cbb4e",
   "metadata": {},
   "outputs": [
    {
     "name": "stdout",
     "output_type": "stream",
     "text": [
      "{1, 3, 5, 7, 9}\n"
     ]
    }
   ],
   "source": [
    "set8 = [] #8 Create a set of odd numbers from 1 to 10\n",
    "for item in range(1,11):\n",
    "    if item%2 != 0:\n",
    "        set8.append(item)\n",
    "print(set(set8))"
   ]
  },
  {
   "cell_type": "code",
   "execution_count": 13,
   "id": "194ff29e-a3ec-4300-ae7c-09d5cbde68b0",
   "metadata": {},
   "outputs": [
    {
     "name": "stdout",
     "output_type": "stream",
     "text": [
      "{1, 2, 3, 4, 5, 6, 7, 8}\n"
     ]
    }
   ],
   "source": [
    "set9 = {1,2,3,4,5} #9 Find the Union of two sets \n",
    "set10 = {6,7,8}\n",
    "set11 = list(set9) + list(set10)\n",
    "print(set(set11))"
   ]
  },
  {
   "cell_type": "code",
   "execution_count": 14,
   "id": "12391e55-4875-4468-9b51-d95ae74e16df",
   "metadata": {},
   "outputs": [
    {
     "name": "stdout",
     "output_type": "stream",
     "text": [
      "The intersection elements are:  [4, 5]\n"
     ]
    }
   ],
   "source": [
    "set12 = {1,2,3,4,5} #10 Find the intersection of two sets \n",
    "set13 = {4,5,6,7,8} \n",
    "set12 = list(set12)\n",
    "set13 = list(set13) \n",
    "count = 0\n",
    "z = []\n",
    "for item1 in set12:\n",
    "    for item2 in set13: \n",
    "        if item1 == item2:\n",
    "            count += 1\n",
    "            z.append(item2)\n",
    "if count > 0:\n",
    "    print(\"The intersection elements are: \",z)\n",
    "else:\n",
    "    print(\"There are no intersection elements\")"
   ]
  },
  {
   "cell_type": "code",
   "execution_count": 19,
   "id": "21d25220-6558-4753-ad00-d9cba22a8771",
   "metadata": {},
   "outputs": [
    {
     "name": "stdout",
     "output_type": "stream",
     "text": [
      "[1, 2, 3, 6, 7, 8]\n"
     ]
    }
   ],
   "source": [
    "set13 = {1,2,3,4,5} #11 Find the intersection of two sets \n",
    "set14 = {4,5,6,7,8} \n",
    "set13 = list(set13)\n",
    "set14 = list(set14) \n",
    "count = 0\n",
    "z = []\n",
    "for item1 in set13:\n",
    "    for item2 in set14: \n",
    "        if item1 == item2:\n",
    "            break\n",
    "        count += 1 \n",
    "    if count == len(set14):\n",
    "        z.append(item1)\n",
    "    count = 0\n",
    "for item3 in set14:\n",
    "    for item4 in set13: \n",
    "        if item3 == item4:\n",
    "            break\n",
    "        count += 1 \n",
    "    if count == len(set13):\n",
    "        z.append(item3)\n",
    "    count = 0\n",
    "print(z)"
   ]
  },
  {
   "cell_type": "code",
   "execution_count": 21,
   "id": "01c44372-2e58-4556-b8b1-baa8b5443ced",
   "metadata": {},
   "outputs": [
    {
     "name": "stdout",
     "output_type": "stream",
     "text": [
      "Set15 is a subset of set16\n"
     ]
    }
   ],
   "source": [
    "set15 = {1,2,3} #12 Check if a set is a subset of another set \n",
    "set16 = {6,5,4,3,2,1} \n",
    "set15 = list(set15) \n",
    "set16 = list(set16)\n",
    "c1 = 0\n",
    "for item5 in set15:\n",
    "    for item6 in set16:\n",
    "        if item5 == item6:\n",
    "            c1 += 1\n",
    "            break\n",
    "if c1 == len(set15):\n",
    "    print(\"Set15 is a subset of set16\")\n",
    "else:\n",
    "    print(\"Set15 is not a subset of set16\")"
   ]
  },
  {
   "cell_type": "code",
   "execution_count": 23,
   "id": "710c65f4-5675-4587-84b4-e8a3eed74644",
   "metadata": {},
   "outputs": [
    {
     "name": "stdout",
     "output_type": "stream",
     "text": [
      "Set15 is a superset of set16\n"
     ]
    }
   ],
   "source": [
    "set15 = {1,2,3} #13 Check if a set is a superset of another set \n",
    "set16 = {6,5,4,3,2,1} \n",
    "set15 = list(set15) \n",
    "set16 = list(set16)\n",
    "c1 = 0\n",
    "for item6 in set16:\n",
    "    for item7 in set15:\n",
    "        if item7 == item6:\n",
    "            c1 += 1\n",
    "            break\n",
    "if c1 == len(set15):\n",
    "    print(\"Set15 is a superset of set16\")\n",
    "else:\n",
    "    print(\"Set15 is not a superset of set16\")"
   ]
  },
  {
   "cell_type": "code",
   "execution_count": 24,
   "id": "4ffa4e2e-b02d-44fb-8ab9-0b6000f517fb",
   "metadata": {},
   "outputs": [
    {
     "name": "stdout",
     "output_type": "stream",
     "text": [
      "{1, 2, 3, 4, 5}\n"
     ]
    }
   ],
   "source": [
    "list17 = [1,2,3,4,5] #14 Create a set from a list\n",
    "print(set(list17))"
   ]
  },
  {
   "cell_type": "code",
   "execution_count": 1,
   "id": "ec605a6b-02e0-4dfd-bbc3-23f9169eca33",
   "metadata": {},
   "outputs": [
    {
     "name": "stdout",
     "output_type": "stream",
     "text": [
      "[1, 2, 3, 4, 5]\n"
     ]
    }
   ],
   "source": [
    "set17 = {1,2,3,4,5} #15 Convert a set to a list\n",
    "print(list(set17))"
   ]
  },
  {
   "cell_type": "code",
   "execution_count": 2,
   "id": "6fdfe825-4ef5-475a-bab4-7b9b93826746",
   "metadata": {},
   "outputs": [
    {
     "name": "stdout",
     "output_type": "stream",
     "text": [
      "{1, 2, 3, 5}\n"
     ]
    }
   ],
   "source": [
    "set18 = {1,2,3,4,5} #16 Remove a random element from a set\n",
    "set18 = list(set18)\n",
    "set18.remove(4)\n",
    "print(set(set18))"
   ]
  },
  {
   "cell_type": "code",
   "execution_count": 4,
   "id": "5e49b5bd-e5e6-4893-84e4-f7d069921804",
   "metadata": {},
   "outputs": [
    {
     "name": "stdout",
     "output_type": "stream",
     "text": [
      "{1, 2, 3, 4}\n"
     ]
    }
   ],
   "source": [
    "set19 = {1,2,3,4,5} #17 Pop an element from a set\n",
    "set19 = list(set19)\n",
    "set19.pop()\n",
    "print(set(set19))"
   ]
  },
  {
   "cell_type": "code",
   "execution_count": 7,
   "id": "a7c61752-2212-4030-8f15-ce5af7e5bc78",
   "metadata": {},
   "outputs": [
    {
     "name": "stdout",
     "output_type": "stream",
     "text": [
      "The two sets have no elements in common\n"
     ]
    }
   ],
   "source": [
    "set20 = {1,2,3,4,5} #18 Check if two sets have no elements in common\n",
    "set21 = {6,7,8,9} \n",
    "z1 = 0\n",
    "for item in set20:\n",
    "    for item2 in set21:\n",
    "        if item == item2:\n",
    "            z1 += 1\n",
    "if z1 == 0:\n",
    "    print(\"The two sets have no elements in common\")\n",
    "else:\n",
    "    print(\"The two sets have at least 1 element in common\")"
   ]
  },
  {
   "cell_type": "code",
   "execution_count": 3,
   "id": "3af7ba7a-652e-4943-962e-0f5a6ccfa743",
   "metadata": {},
   "outputs": [
    {
     "name": "stdout",
     "output_type": "stream",
     "text": [
      "{1, 2, 3, 6, 7, 8, 9}\n"
     ]
    }
   ],
   "source": [
    "set22 = {1,2,3,4,5} #19 Find the symmetric difference between two sets \n",
    "set23 = {4,5,6,7,8,9}\n",
    "print(set22.symmetric_difference(set23))"
   ]
  },
  {
   "cell_type": "code",
   "execution_count": 4,
   "id": "fca91b61-f84f-4780-a40a-607b3dcb71dd",
   "metadata": {},
   "outputs": [
    {
     "name": "stdout",
     "output_type": "stream",
     "text": [
      "{1, 2, 3, 4, 5, 6, 7, 8}\n"
     ]
    }
   ],
   "source": [
    "set24 = {1,2,3,4,5} #20 Update a set with elements from another set \n",
    "set25 = {6,7,8}\n",
    "set24 = list(set24)\n",
    "for item in set25:\n",
    "    set24.append(item)\n",
    "print(set(set24))"
   ]
  },
  {
   "cell_type": "code",
   "execution_count": 1,
   "id": "ef279de1-b1bf-41c4-9f06-7884c19e919f",
   "metadata": {},
   "outputs": [
    {
     "name": "stdout",
     "output_type": "stream",
     "text": [
      "{2, 3, 5, 7, 11}\n"
     ]
    }
   ],
   "source": [
    "list26 = [] #21 Create a set of the first 5 prime numbers \n",
    "a = 0\n",
    "for i in range(2,12):\n",
    "    for j in range (1, i+1):\n",
    "        if i % j == 0:\n",
    "            a += 1\n",
    "    if a == 2:\n",
    "        list26.append(i)\n",
    "    a = 0\n",
    "print(set(list26))"
   ]
  },
  {
   "cell_type": "code",
   "execution_count": 2,
   "id": "1b836fc8-e4d1-4c9c-a524-4880e93c5330",
   "metadata": {},
   "outputs": [
    {
     "name": "stdout",
     "output_type": "stream",
     "text": [
      "Not identical\n"
     ]
    }
   ],
   "source": [
    "set27 = {1,2,3,2,5} #22 Check if 2 sets are identical\n",
    "set28 = {2,4,2,5,1}\n",
    "if set27 == set28:\n",
    "    print('Tuples are identical')\n",
    "else:\n",
    "    print('Not identical')"
   ]
  },
  {
   "cell_type": "code",
   "execution_count": 3,
   "id": "a029e46f-8100-467a-af50-876dfae95296",
   "metadata": {},
   "outputs": [
    {
     "name": "stdout",
     "output_type": "stream",
     "text": [
      "frozenset({1, 2, 3, 4, 5})\n"
     ]
    }
   ],
   "source": [
    "numbers = frozenset([1,2,3,4,5]) #23 Create a frozen set \n",
    "print(numbers)"
   ]
  },
  {
   "cell_type": "code",
   "execution_count": 5,
   "id": "aff229b9-a336-430d-8afc-30a144317d54",
   "metadata": {},
   "outputs": [
    {
     "name": "stdout",
     "output_type": "stream",
     "text": [
      "False\n"
     ]
    }
   ],
   "source": [
    "set29 = {1,2,3,4,5} #24 Check if a set is disjoint with another set\n",
    "set30 = {5,7,8,9,10}\n",
    "print(set29.isdisjoint(set30))"
   ]
  },
  {
   "cell_type": "code",
   "execution_count": 7,
   "id": "b69e283f-0844-495b-80de-b4088174f50e",
   "metadata": {},
   "outputs": [
    {
     "name": "stdout",
     "output_type": "stream",
     "text": [
      "{1, 4, 9, 16, 25}\n"
     ]
    }
   ],
   "source": [
    "set31 = [] #25 Create a set of squares of numbers from 1 to 5 \n",
    "for item in range(1, 6):\n",
    "    set31.append(item**2)\n",
    "print(set(set31))"
   ]
  },
  {
   "cell_type": "code",
   "execution_count": 2,
   "id": "2ce71b68-377f-4228-b5f6-3a0a293c2e63",
   "metadata": {},
   "outputs": [
    {
     "name": "stdout",
     "output_type": "stream",
     "text": [
      "{8, 2, 6}\n"
     ]
    }
   ],
   "source": [
    "set32 = {1,2,3,5,6,7,8,9} #26 Filter out all even numbers from the set \n",
    "set33 = list(set32)\n",
    "store = []\n",
    "for item in set33:\n",
    "    if item%2 == 0:\n",
    "        store.append(item)\n",
    "print(set(store))"
   ]
  },
  {
   "cell_type": "code",
   "execution_count": 3,
   "id": "575b07c6-fe29-4c5d-a5a4-6a4937b87023",
   "metadata": {},
   "outputs": [
    {
     "name": "stdout",
     "output_type": "stream",
     "text": [
      "{2, 4, 6, 8, 10}\n"
     ]
    }
   ],
   "source": [
    "set34 = {1,2,3,4,5} #27 Multiply all elements in a set by 2\n",
    "list35 = list(set34)\n",
    "list36 = []\n",
    "for item35 in list35:\n",
    "    list36.append(item35*2)\n",
    "print(set(list36))"
   ]
  },
  {
   "cell_type": "code",
   "execution_count": 4,
   "id": "c199a806-fb86-4821-9acc-e9de199e0ddd",
   "metadata": {},
   "outputs": [
    {
     "name": "stdout",
     "output_type": "stream",
     "text": [
      "[40, 84, 78, 39, 49, 24, 88, 10, 49, 43]\n"
     ]
    }
   ],
   "source": [
    "import random  #28 Create a set of random numbers \n",
    "set_random = [] \n",
    "for i in range(10):\n",
    "    set_random.append(random.randint(1,100))\n",
    "print(set_random)"
   ]
  },
  {
   "cell_type": "code",
   "execution_count": 5,
   "id": "7dbca225-5636-4629-8d9d-2f8817bdc58d",
   "metadata": {},
   "outputs": [
    {
     "name": "stdout",
     "output_type": "stream",
     "text": [
      "the Set is empty\n"
     ]
    }
   ],
   "source": [
    "set37 = [] #29 Check if a set is empty \n",
    "if len(set37) == 0:\n",
    "    print(\"the Set is empty\")\n",
    "else:\n",
    "    print(\"The set is not empty\")"
   ]
  },
  {
   "cell_type": "code",
   "execution_count": 13,
   "id": "96adceb2-35a8-47cf-9298-bcd78cd2426c",
   "metadata": {},
   "outputs": [
    {
     "name": "stdout",
     "output_type": "stream",
     "text": [
      "{frozenset({1, 2, 3}), frozenset({1, 2, 4})}\n"
     ]
    }
   ],
   "source": [
    "a = {frozenset([1, 2, 3]), frozenset([1, 2, 4])} #30 Create a nested set \n",
    "print(a)"
   ]
  },
  {
   "cell_type": "code",
   "execution_count": 14,
   "id": "225ac20a-1446-4385-a83e-69ae7829172c",
   "metadata": {},
   "outputs": [
    {
     "name": "stdout",
     "output_type": "stream",
     "text": [
      "{1, 2, 4, 5}\n"
     ]
    }
   ],
   "source": [
    "set38 = {1,2,3,4,5} #31 Remove an element from a set using discard method \n",
    "set38.discard(3)\n",
    "print(set38)"
   ]
  },
  {
   "cell_type": "code",
   "execution_count": 15,
   "id": "4a24cdae-8b6c-4790-b79b-89204a14db72",
   "metadata": {},
   "outputs": [
    {
     "name": "stdout",
     "output_type": "stream",
     "text": [
      "{10, 20}\n",
      "{100, 60}\n"
     ]
    }
   ],
   "source": [
    "A = {10, 20, 30, 40, 80} #32 Compare two sets\n",
    "B = {100, 30, 80, 40, 60}\n",
    "print (A - B)\n",
    "print (B - A)"
   ]
  },
  {
   "cell_type": "code",
   "execution_count": 23,
   "id": "283bc7dd-2db9-49bb-b79c-8364bd915fc8",
   "metadata": {},
   "outputs": [
    {
     "name": "stdout",
     "output_type": "stream",
     "text": [
      "{'n', 'g', 's', 'a', ' ', 'r', 'i', 'T', 'h', 't'}\n"
     ]
    }
   ],
   "source": [
    "str39 = \"This is a string\" #33 Create a set from a string \n",
    "set39 = set(str39)\n",
    "print(set39)"
   ]
  },
  {
   "cell_type": "code",
   "execution_count": 24,
   "id": "c1aa5827-b273-4431-92e5-89a4205776ce",
   "metadata": {},
   "outputs": [
    {
     "name": "stdout",
     "output_type": "stream",
     "text": [
      "{1, 2, 3, 4, 5}\n"
     ]
    }
   ],
   "source": [
    "set40 = {'1','2','3','4','5'} #34 Convert a set of strings to a set of integers \n",
    "list41 = list(set40)\n",
    "list42 = []\n",
    "for item41 in list41:\n",
    "    list42.append(int(item41))\n",
    "set41 = set(list42)\n",
    "print(set41)"
   ]
  },
  {
   "cell_type": "code",
   "execution_count": 26,
   "id": "4a4361e7-21ba-415d-bedc-02502231bcc1",
   "metadata": {},
   "outputs": [
    {
     "name": "stdout",
     "output_type": "stream",
     "text": [
      "{'2', '1', '5', '3', '4'}\n"
     ]
    }
   ],
   "source": [
    "set42 = {1,2,3,4,5} #35 Convert a set of integers to a set of strings \n",
    "list43 = list(set42)\n",
    "list44 = []\n",
    "for item44 in list43:\n",
    "    list44.append(str(item44))\n",
    "set45 = set(list44)\n",
    "print(set45)"
   ]
  },
  {
   "cell_type": "code",
   "execution_count": 28,
   "id": "8dfa7c96-3d33-4913-9cfc-0c5681d7e7a6",
   "metadata": {},
   "outputs": [
    {
     "name": "stdout",
     "output_type": "stream",
     "text": [
      "{1, 2, 3}\n"
     ]
    }
   ],
   "source": [
    "tup46 = (1,2,3) #36 Create a set from a tuple \n",
    "set46 = set(tup46)\n",
    "print(set46)"
   ]
  },
  {
   "cell_type": "code",
   "execution_count": 30,
   "id": "6c861729-11cc-4ba0-b55b-41d6b7049e56",
   "metadata": {},
   "outputs": [
    {
     "name": "stdout",
     "output_type": "stream",
     "text": [
      "(1, 2, 3, 4, 5)\n"
     ]
    }
   ],
   "source": [
    "set47 = {1,2,3,4,5} #37 Convert a set to a tuple \n",
    "tup48 = tuple(set47)\n",
    "print(tup48)"
   ]
  },
  {
   "cell_type": "code",
   "execution_count": 31,
   "id": "5d3fa660-7512-4c0e-a88d-e897121e4c0c",
   "metadata": {},
   "outputs": [
    {
     "name": "stdout",
     "output_type": "stream",
     "text": [
      "5\n"
     ]
    }
   ],
   "source": [
    "set49 = {1,2,3,4,5} #39 Find the maximum value in a set \n",
    "print(max(set49))"
   ]
  },
  {
   "cell_type": "code",
   "execution_count": 32,
   "id": "5053c6c2-169f-4d68-a964-f7b96e1c1bf9",
   "metadata": {},
   "outputs": [
    {
     "name": "stdout",
     "output_type": "stream",
     "text": [
      "1\n"
     ]
    }
   ],
   "source": [
    "set50 = {1,2,3,4,5} #40 Find the minimum value in a set\n",
    "print(min(set50))"
   ]
  },
  {
   "cell_type": "code",
   "execution_count": 33,
   "id": "a8798b9a-0a41-4704-9e94-19d16dfe8724",
   "metadata": {},
   "outputs": [
    {
     "name": "stdout",
     "output_type": "stream",
     "text": [
      "The two sets have no elements in common\n"
     ]
    }
   ],
   "source": [
    "set51 = {1,2,3,4,5} #41 Check if the intersection of two sets is empty\n",
    "set52 = {6,7,8,9,10}\n",
    "z1 = 0\n",
    "for item in set51:\n",
    "    for item2 in set52:\n",
    "        if item == item2:\n",
    "            z1 += 1\n",
    "if z1 == 0:\n",
    "    print(\"The two sets have no elements in common\")\n",
    "else:\n",
    "    print(\"The two sets have at least 1 element in common\")"
   ]
  },
  {
   "cell_type": "code",
   "execution_count": 8,
   "id": "99ed6c68-834d-4ba9-83a2-1b7310719ef5",
   "metadata": {},
   "outputs": [
    {
     "name": "stdout",
     "output_type": "stream",
     "text": [
      "{0, 1, 2, 3}\n"
     ]
    }
   ],
   "source": [
    "fibonacci = [0] #42 Create a set of the first 5 Fibonacci numbers \n",
    "i = 1\n",
    "for j in range(1,7):\n",
    "    if len(fibonacci) == 5:\n",
    "        break\n",
    "    else:\n",
    "        fibonacci.append(i)\n",
    "        i += fibonacci[j-1]\n",
    "print(set(fibonacci)) #The output contains only a single 1 because in a set the duplicates are removed"
   ]
  },
  {
   "cell_type": "code",
   "execution_count": 9,
   "id": "754b7746-209b-4ad2-8eae-fc2dd02d5f1d",
   "metadata": {},
   "outputs": [
    {
     "name": "stdout",
     "output_type": "stream",
     "text": [
      "{1, 2, 3, 4}\n"
     ]
    }
   ],
   "source": [
    "list53 = [1,2,2,3,4,4] #43 Remove duplicates from a list using sets \n",
    "set53 = set(list53)\n",
    "print(set53)"
   ]
  },
  {
   "cell_type": "code",
   "execution_count": 2,
   "id": "4d5d9d92-e49e-482a-8f92-f7b87b31f301",
   "metadata": {},
   "outputs": [
    {
     "name": "stdout",
     "output_type": "stream",
     "text": [
      "elements of set54 are not in set 55\n"
     ]
    }
   ],
   "source": [
    "set54 = {1,2,3,4,54,5,6,7,8,9}  #44 Check if two sets have the same elements regardless of their count\n",
    "set55 = {6,3,7,8,12,34,45,66,88}\n",
    "common = []\n",
    "list54 = list(set54)\n",
    "list55 = list(set55)\n",
    "z1, z2, z3 = 0, 0, 0 \n",
    "if len(list54) < len(list55):\n",
    "    for item_1 in list54:\n",
    "        for item_2 in list55:\n",
    "            if item_1 == item_2:\n",
    "                z1 += 1\n",
    "                break\n",
    "        if z1 == len(list54):\n",
    "            print(\"Elements in set54 are in set55\")\n",
    "        else:\n",
    "            print(\"elements of set54 are not in set 55\")\n",
    "        break\n",
    "elif len(list54) == len(list55):\n",
    "    for item_1 in list54:\n",
    "        for item_2 in list55:\n",
    "            if item_1 == item_2:\n",
    "                z2 += 1\n",
    "                break\n",
    "        if z2 == len(list54):\n",
    "            print(\"Elements in set54 are in set55\")\n",
    "        else:\n",
    "            print(\"elements of set54 are not in set 55\")\n",
    "        break\n",
    "else:\n",
    "    for item_1 in list55:\n",
    "        for item_2 in list54:\n",
    "            if item_1 == item_2:\n",
    "                z3 += 1\n",
    "                break\n",
    "        if z3 == len(list54):\n",
    "            print(\"Elements in set54 are in set55\")\n",
    "        else:\n",
    "            print(\"elements of set54 are not in set 55\")\n",
    "        break"
   ]
  },
  {
   "cell_type": "code",
   "execution_count": 3,
   "id": "c99894ff-e66e-46d3-b095-07359ee61b23",
   "metadata": {},
   "outputs": [
    {
     "name": "stdin",
     "output_type": "stream",
     "text": [
      "Enter the value upto which powers of 2 will be calculated 5\n"
     ]
    },
    {
     "name": "stdout",
     "output_type": "stream",
     "text": [
      "{32, 2, 4, 8, 16}\n"
     ]
    }
   ],
   "source": [
    "powers = [] #45 Create a set of the first n powers of 2\n",
    "n = int(input(\"Enter the value upto which powers of 2 will be calculated\"))\n",
    "p = 2\n",
    "for l in range(1, n+1):\n",
    "    if l == 1:\n",
    "        powers.append(2)\n",
    "    else:\n",
    "        for m in range(1, l):\n",
    "            p = p * 2\n",
    "        powers.append(p)\n",
    "    p = 2\n",
    "print(set(powers))"
   ]
  },
  {
   "cell_type": "code",
   "execution_count": 4,
   "id": "4a0d0809-44a1-4e82-b6c5-7cd67f7646cd",
   "metadata": {},
   "outputs": [
    {
     "name": "stdout",
     "output_type": "stream",
     "text": [
      "The common elements are: [3, 6, 7, 8]\n"
     ]
    }
   ],
   "source": [
    "list56 = [1,2,3,4,54,5,6,7,8,9]  #46 Find the common elements between a set and a list.\n",
    "set57 = [6,3,7,8,12,34,45,66,88]\n",
    "common = []\n",
    "set57 = list(set57)\n",
    "for item_1 in list56:\n",
    "    for item_2 in set57:\n",
    "        if item_1 == item_2:\n",
    "            common.append(item_1)\n",
    "print('The common elements are:', common)"
   ]
  },
  {
   "cell_type": "code",
   "execution_count": 5,
   "id": "384b7e2d-74d6-43b0-ba6a-a65541af6901",
   "metadata": {},
   "outputs": [
    {
     "name": "stdin",
     "output_type": "stream",
     "text": [
      "Enter the value of n to receive n triangular numbers 5\n"
     ]
    },
    {
     "name": "stdout",
     "output_type": "stream",
     "text": [
      "{1, 3, 6, 10, 15}\n"
     ]
    }
   ],
   "source": [
    "n = int(input(\"Enter the value of n to receive n triangular numbers\")) #47 \n",
    "j,k,tri = 1,1,[]\n",
    "for i in range(1, n + 1):\n",
    "    tri.append(k)\n",
    "    j = j + 1 # Increasing j by 1\n",
    "    k = k + j # Add value of j into k and update k\n",
    "print(set(tri))"
   ]
  },
  {
   "cell_type": "code",
   "execution_count": 12,
   "id": "5e59d502-b64e-4e22-aa93-1e3a468262b5",
   "metadata": {},
   "outputs": [
    {
     "name": "stdout",
     "output_type": "stream",
     "text": [
      "Set contains another set as a subset\n"
     ]
    }
   ],
   "source": [
    "set58 = {frozenset([1, 2, 3]), frozenset([1, 2, 4])} #48 Check if a set contains another set as a subset \n",
    "n1 = 0\n",
    "for item in set58:\n",
    "    if type(item) == frozenset:\n",
    "        n1 += 1\n",
    "if n1 > 0:\n",
    "    print(\"Set contains another set as a subset\")\n",
    "else:\n",
    "    print(\"Set does not contain another set as a subset\")"
   ]
  },
  {
   "cell_type": "code",
   "execution_count": 14,
   "id": "9f55619a-52b3-4298-bee0-1f5a85b995b9",
   "metadata": {},
   "outputs": [
    {
     "name": "stdin",
     "output_type": "stream",
     "text": [
      "Enter the length of the set 5\n"
     ]
    },
    {
     "name": "stdout",
     "output_type": "stream",
     "text": [
      "{0, 1}\n"
     ]
    }
   ],
   "source": [
    "list59 = [] #49 Create a set of alternating 1s and 0s of length 'n'\n",
    "n_11 = int(input('Enter the length of the set'))\n",
    "for item in range(0, n_11):\n",
    "    if item%2 == 0:\n",
    "        list59.append(1)\n",
    "    else:\n",
    "        list59.append(0)\n",
    "print(set(list59))"
   ]
  },
  {
   "cell_type": "code",
   "execution_count": 18,
   "id": "efbbbc6d-418b-485f-ac33-26955b8c7dc8",
   "metadata": {},
   "outputs": [
    {
     "name": "stdout",
     "output_type": "stream",
     "text": [
      "{1, 2, 3, 4, 5, 6, 7, 8, 9}\n"
     ]
    }
   ],
   "source": [
    "set60 = {1,2,3} # 50 Merge multiple sets into one\n",
    "set61 = {4,5,6} \n",
    "set62 = {7,8,9} \n",
    "list60 = list(set60)\n",
    "list61 = list(set61)\n",
    "list62 = list(set62)\n",
    "set63 = list60 + list61 + list62\n",
    "print(set(set63))"
   ]
  },
  {
   "cell_type": "code",
   "execution_count": null,
   "id": "dea09310-73fa-4597-8cc1-3747853c48c4",
   "metadata": {},
   "outputs": [],
   "source": []
  }
 ],
 "metadata": {
  "kernelspec": {
   "display_name": "Python 3 (ipykernel)",
   "language": "python",
   "name": "python3"
  },
  "language_info": {
   "codemirror_mode": {
    "name": "ipython",
    "version": 3
   },
   "file_extension": ".py",
   "mimetype": "text/x-python",
   "name": "python",
   "nbconvert_exporter": "python",
   "pygments_lexer": "ipython3",
   "version": "3.10.8"
  }
 },
 "nbformat": 4,
 "nbformat_minor": 5
}
