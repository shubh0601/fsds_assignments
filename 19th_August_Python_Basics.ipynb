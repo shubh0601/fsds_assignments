{
 "cells": [
  {
   "cell_type": "code",
   "execution_count": 46,
   "id": "5973d037-3eb0-4ef4-b651-309eb785fe92",
   "metadata": {},
   "outputs": [
    {
     "name": "stdout",
     "output_type": "stream",
     "text": [
      "-3773 345\n"
     ]
    }
   ],
   "source": [
    "x, y = 345, -3773 #Declaring two variables x and y and assigning them integer values\n",
    "x = x-y #Subtracting y from x and storing it in x\n",
    "y = x+y #Adding y to x - result will be y will hold value of x, since(x-y+y=x) Hence, y holds x now.\n",
    "x = y-x #Subtracting x from y [x = x - (x-y)= y] - Hence, x now holds value of y\n",
    "print(x, y) "
   ]
  },
  {
   "cell_type": "code",
   "execution_count": 48,
   "id": "f7d902a0-cfc0-4416-8b69-57928ad0a9d4",
   "metadata": {},
   "outputs": [
    {
     "name": "stdin",
     "output_type": "stream",
     "text": [
      "Enter length of rectangle 2\n",
      "Enter width of rectangle 5\n"
     ]
    },
    {
     "name": "stdout",
     "output_type": "stream",
     "text": [
      "10\n"
     ]
    }
   ],
   "source": [
    "length = int(input(\"Enter length of rectangle\")) #Storing the length of rectangle\n",
    "width = int(input(\"Enter width of rectangle\")) #Storing the width of rectangle\n",
    "area = length*width # Calcualting area\n",
    "print(area) #Displaying the calculated area"
   ]
  },
  {
   "cell_type": "code",
   "execution_count": 54,
   "id": "02e94f0f-239b-4d05-90fb-2704080d9207",
   "metadata": {},
   "outputs": [
    {
     "name": "stdin",
     "output_type": "stream",
     "text": [
      "Enter temperature in Celsius 37\n"
     ]
    },
    {
     "name": "stdout",
     "output_type": "stream",
     "text": [
      "The temperature in Fahrenheit is 98.60\n"
     ]
    }
   ],
   "source": [
    "temp = int(input(\"Enter temperature in Celsius\")) #Taking input of temperature in Celsius\n",
    "fah = (temp*(9/5))+32 # Converting the temperature to Fahrenheit\n",
    "print(f\"The temperature in Fahrenheit is\",\"%.2f\" %fah) #Displaying the temperature in Fahrenheit \n",
    "                                                       #rounded to two decimal places"
   ]
  },
  {
   "cell_type": "code",
   "execution_count": 55,
   "id": "ec7d91cd-0581-46b7-abde-05a4666cbb9c",
   "metadata": {},
   "outputs": [
    {
     "name": "stdin",
     "output_type": "stream",
     "text": [
      "Enter a string asdf\n"
     ]
    },
    {
     "name": "stdout",
     "output_type": "stream",
     "text": [
      "The length of the string is 4\n"
     ]
    }
   ],
   "source": [
    "string = input(\"Enter a string\") #Taking input as string\n",
    "length = len(string) #Calculating the length of the string\n",
    "print(f'The length of the string is', length) #Displaying the length of the string"
   ]
  },
  {
   "cell_type": "code",
   "execution_count": 60,
   "id": "7a5151c6-8862-4b63-9cb0-f7ad150f7a6f",
   "metadata": {},
   "outputs": [
    {
     "name": "stdin",
     "output_type": "stream",
     "text": [
      "Enter a string The quick brown fox jumped over the lazy dog\n"
     ]
    },
    {
     "name": "stdout",
     "output_type": "stream",
     "text": [
      "The number of vowels are 12\n"
     ]
    }
   ],
   "source": [
    "string2 = input(\"Enter a string\").lower() #Taking input as string, converting it into lower format\n",
    "count = 0 #Declaring a counter variable which will store the count of vowels\n",
    "for item in string2: #Running a for loop to extract each word\n",
    "    if item in ('a','e','i','o','u'): # Checking each variable whether it is a vowel\n",
    "        count += 1 #Running a counter which will increment for every vowel\n",
    "print(f\"The number of vowels are\", count) #Displaying the number of vowels"
   ]
  },
  {
   "cell_type": "code",
   "execution_count": 62,
   "id": "656bcac8-fb05-4dec-9159-961243a6d7d4",
   "metadata": {},
   "outputs": [
    {
     "name": "stdout",
     "output_type": "stream",
     "text": [
      "The reverse of the string is siht esreveR\n"
     ]
    }
   ],
   "source": [
    "string3 = 'Reverse this' #Storing a string in a variable\n",
    "reverse = string3[12::-1] #Reversing the string using slicing\n",
    "print(f'The reverse of the string is', reverse) #Displaying the reversed string."
   ]
  },
  {
   "cell_type": "code",
   "execution_count": 73,
   "id": "0f2b6da9-8c6e-4c9e-8f7f-60e51e9b1d7c",
   "metadata": {},
   "outputs": [
    {
     "name": "stdin",
     "output_type": "stream",
     "text": [
      "Enter string refer\n"
     ]
    },
    {
     "name": "stdout",
     "output_type": "stream",
     "text": [
      "The string is a palindrome\n"
     ]
    }
   ],
   "source": [
    "string4 = input(\"Enter string\").lower() #Taking a string as input and converting to lower format\n",
    "rev = string4[len(string4)::-1] #Reversing the string using length function and slicing\n",
    "if string4 == rev: #Checking whether the given string is equal to its reverse\n",
    "    print('The string is a palindrome') #Displaying the string as palindrome\n",
    "else:\n",
    "    print('The string is not a palindrome') #Displaying if the string is not a palindrome"
   ]
  },
  {
   "cell_type": "code",
   "execution_count": 4,
   "id": "d094cebf-1d98-4525-a273-cf6a154a4de3",
   "metadata": {},
   "outputs": [
    {
     "name": "stdin",
     "output_type": "stream",
     "text": [
      "Enter string  asdf adsf adsf\n"
     ]
    },
    {
     "name": "stdout",
     "output_type": "stream",
     "text": [
      "The trimmed text is asdfadsfadsf\n"
     ]
    }
   ],
   "source": [
    "string5 = input(\"Enter string\") #Taking a string as input\n",
    "string6 = \"\" #Declaring an empty string variable \n",
    "for item in string5: #Running a for loop to extract every element within the string\n",
    "    if item == \" \": #In case the character is a space it will skip and move to the next character\n",
    "        pass\n",
    "    else:\n",
    "        string6 += item #If the character is not a space, it will add it to the new string variable\n",
    "print(f'The trimmed text is', string6) #Displaying the new string without spaces. "
   ]
  },
  {
   "cell_type": "code",
   "execution_count": null,
   "id": "dee742d8-919d-4c16-9482-a94413af0c80",
   "metadata": {},
   "outputs": [],
   "source": []
  }
 ],
 "metadata": {
  "kernelspec": {
   "display_name": "Python 3 (ipykernel)",
   "language": "python",
   "name": "python3"
  },
  "language_info": {
   "codemirror_mode": {
    "name": "ipython",
    "version": 3
   },
   "file_extension": ".py",
   "mimetype": "text/x-python",
   "name": "python",
   "nbconvert_exporter": "python",
   "pygments_lexer": "ipython3",
   "version": "3.10.8"
  }
 },
 "nbformat": 4,
 "nbformat_minor": 5
}
